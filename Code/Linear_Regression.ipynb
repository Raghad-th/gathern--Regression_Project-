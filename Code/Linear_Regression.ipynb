{
  "cells": [
    {
      "cell_type": "markdown",
      "id": "7e7a58b4",
      "metadata": {
        "id": "7e7a58b4"
      },
      "source": [
        "## Cleaning"
      ]
    },
    {
      "cell_type": "code",
      "execution_count": null,
      "id": "beb5bb81",
      "metadata": {
        "id": "beb5bb81"
      },
      "outputs": [],
      "source": [
        "import pandas as pd\n",
        "import numpy as np\n",
        "import re\n",
        "\n",
        "import seaborn as sns\n",
        "import matplotlib.pyplot as plt\n",
        "%matplotlib inline\n",
        "from pylab import *\n",
        "\n",
        "\n",
        "from statsmodels.stats.outliers_influence import variance_inflation_factor\n",
        "from sklearn.model_selection import train_test_split\n",
        "from sklearn.linear_model import LinearRegression\n",
        "from sklearn.preprocessing import PolynomialFeatures\n",
        "from sklearn.linear_model import Lasso, LassoCV, Ridge, RidgeCV\n",
        "from sklearn.model_selection import (cross_val_score, train_test_split, \n",
        "                                     KFold, GridSearchCV)\n",
        "from sklearn.preprocessing import StandardScaler\n",
        "from sklearn.metrics import r2_score\n",
        "import statsmodels.api as sm;\n",
        "\n"
      ]
    },
    {
      "cell_type": "code",
      "execution_count": null,
      "id": "e93601ed",
      "metadata": {
        "id": "e93601ed"
      },
      "outputs": [],
      "source": [
        "df = pd.read_csv('data.csv')"
      ]
    },
    {
      "cell_type": "code",
      "execution_count": null,
      "id": "ef6f5b62",
      "metadata": {
        "id": "ef6f5b62",
        "outputId": "669c98f6-a5d1-43dc-f1ca-dcfab2907eae"
      },
      "outputs": [
        {
          "data": {
            "text/html": [
              "<div>\n",
              "<style scoped>\n",
              "    .dataframe tbody tr th:only-of-type {\n",
              "        vertical-align: middle;\n",
              "    }\n",
              "\n",
              "    .dataframe tbody tr th {\n",
              "        vertical-align: top;\n",
              "    }\n",
              "\n",
              "    .dataframe thead th {\n",
              "        text-align: right;\n",
              "    }\n",
              "</style>\n",
              "<table border=\"1\" class=\"dataframe\">\n",
              "  <thead>\n",
              "    <tr style=\"text-align: right;\">\n",
              "      <th></th>\n",
              "      <th>property</th>\n",
              "      <th>city</th>\n",
              "      <th>area</th>\n",
              "      <th>category</th>\n",
              "      <th>rating</th>\n",
              "      <th>price</th>\n",
              "    </tr>\n",
              "  </thead>\n",
              "  <tbody>\n",
              "    <tr>\n",
              "      <th>0</th>\n",
              "      <td>شاليه بمسبح وغرفة نوم</td>\n",
              "      <td>الرياض - حي المناخ</td>\n",
              "      <td>مساحة الوحدة 148 م2</td>\n",
              "      <td>مخصص لل عوائل و عزاب</td>\n",
              "      <td>10</td>\n",
              "      <td>500</td>\n",
              "    </tr>\n",
              "    <tr>\n",
              "      <th>1</th>\n",
              "      <td>شاليه بصالة مطلة على المسبح</td>\n",
              "      <td>الرياض - حي المناخ</td>\n",
              "      <td>مساحة الوحدة 148 م2</td>\n",
              "      <td>مخصص لل عوائل و عزاب</td>\n",
              "      <td>10</td>\n",
              "      <td>500</td>\n",
              "    </tr>\n",
              "    <tr>\n",
              "      <th>2</th>\n",
              "      <td>شاليه بجلسة خارجية على المسبح</td>\n",
              "      <td>الرياض - حي المناخ</td>\n",
              "      <td>مساحة الوحدة 148 م2</td>\n",
              "      <td>مخصص لل عوائل و عزاب</td>\n",
              "      <td>10</td>\n",
              "      <td>500</td>\n",
              "    </tr>\n",
              "    <tr>\n",
              "      <th>3</th>\n",
              "      <td>شاليه بمسطح اخضر وجلسة خارجية</td>\n",
              "      <td>الرياض - حي المناخ</td>\n",
              "      <td>مساحة الوحدة 148 م2</td>\n",
              "      <td>مخصص لل عوائل و عزاب</td>\n",
              "      <td>10</td>\n",
              "      <td>500</td>\n",
              "    </tr>\n",
              "    <tr>\n",
              "      <th>4</th>\n",
              "      <td>شاليه بجلسة تطل على مسبح داخلي</td>\n",
              "      <td>الرياض - حي الرمال</td>\n",
              "      <td>مساحة الوحدة 450 م2</td>\n",
              "      <td>مخصص لل عوائل و عزاب</td>\n",
              "      <td>9.5</td>\n",
              "      <td>450</td>\n",
              "    </tr>\n",
              "    <tr>\n",
              "      <th>...</th>\n",
              "      <td>...</td>\n",
              "      <td>...</td>\n",
              "      <td>...</td>\n",
              "      <td>...</td>\n",
              "      <td>...</td>\n",
              "      <td>...</td>\n",
              "    </tr>\n",
              "    <tr>\n",
              "      <th>2415</th>\n",
              "      <td>شقة بغرفة جلوس وغرفة نوم</td>\n",
              "      <td>الرياض - حي غرناطة</td>\n",
              "      <td>مساحة الوحدة 175 م2</td>\n",
              "      <td>مخصص لل عوائل فقط</td>\n",
              "      <td>0</td>\n",
              "      <td>400</td>\n",
              "    </tr>\n",
              "    <tr>\n",
              "      <th>2416</th>\n",
              "      <td>مخيم بجلسة خارجية وألعاب أطفال</td>\n",
              "      <td>الرياض - حي بنبان</td>\n",
              "      <td>مساحة الوحدة 1000 م2</td>\n",
              "      <td>مخصص لل عوائل فقط</td>\n",
              "      <td>4.8</td>\n",
              "      <td>800</td>\n",
              "    </tr>\n",
              "    <tr>\n",
              "      <th>2417</th>\n",
              "      <td>مخيم بملعب طائره وبروجكتر (قسم رجال)</td>\n",
              "      <td>الرياض - حي الثمامة</td>\n",
              "      <td>مساحة الوحدة 2000 م2</td>\n",
              "      <td>مخصص لل عوائل و عزاب</td>\n",
              "      <td>0</td>\n",
              "      <td>1,200</td>\n",
              "    </tr>\n",
              "    <tr>\n",
              "      <th>2418</th>\n",
              "      <td>شقة بغرفتين نوم وغرفة جلوس</td>\n",
              "      <td>الرياض - حي الملقا</td>\n",
              "      <td>مساحة الوحدة 200 م2</td>\n",
              "      <td>مخصص لل عوائل و عزاب</td>\n",
              "      <td>7.1</td>\n",
              "      <td>390</td>\n",
              "    </tr>\n",
              "    <tr>\n",
              "      <th>2419</th>\n",
              "      <td>NaN</td>\n",
              "      <td>\\n                            \\n              ...</td>\n",
              "      <td>\\n                            \\n              ...</td>\n",
              "      <td>\\n                            \\n              ...</td>\n",
              "      <td>ليلة</td>\n",
              "      <td>690</td>\n",
              "    </tr>\n",
              "  </tbody>\n",
              "</table>\n",
              "<p>2420 rows × 6 columns</p>\n",
              "</div>"
            ],
            "text/plain": [
              "                                  property  \\\n",
              "0                   شاليه بمسبح وغرفة نوم    \n",
              "1             شاليه بصالة مطلة على المسبح    \n",
              "2           شاليه بجلسة خارجية على المسبح    \n",
              "3           شاليه بمسطح اخضر وجلسة خارجية    \n",
              "4          شاليه بجلسة تطل على مسبح داخلي    \n",
              "...                                    ...   \n",
              "2415              شقة بغرفة جلوس وغرفة نوم   \n",
              "2416       مخيم بجلسة خارجية وألعاب أطفال    \n",
              "2417  مخيم بملعب طائره وبروجكتر (قسم رجال)   \n",
              "2418           شقة بغرفتين نوم وغرفة جلوس    \n",
              "2419                                   NaN   \n",
              "\n",
              "                                                   city  \\\n",
              "0                                    الرياض - حي المناخ   \n",
              "1                                    الرياض - حي المناخ   \n",
              "2                                    الرياض - حي المناخ   \n",
              "3                                    الرياض - حي المناخ   \n",
              "4                                    الرياض - حي الرمال   \n",
              "...                                                 ...   \n",
              "2415                                 الرياض - حي غرناطة   \n",
              "2416                                  الرياض - حي بنبان   \n",
              "2417                                الرياض - حي الثمامة   \n",
              "2418                                 الرياض - حي الملقا   \n",
              "2419  \\n                            \\n              ...   \n",
              "\n",
              "                                                   area  \\\n",
              "0                                   مساحة الوحدة 148 م2   \n",
              "1                                   مساحة الوحدة 148 م2   \n",
              "2                                   مساحة الوحدة 148 م2   \n",
              "3                                   مساحة الوحدة 148 م2   \n",
              "4                                   مساحة الوحدة 450 م2   \n",
              "...                                                 ...   \n",
              "2415                                مساحة الوحدة 175 م2   \n",
              "2416                               مساحة الوحدة 1000 م2   \n",
              "2417                               مساحة الوحدة 2000 م2   \n",
              "2418                                مساحة الوحدة 200 م2   \n",
              "2419  \\n                            \\n              ...   \n",
              "\n",
              "                                               category rating  price  \n",
              "0                                  مخصص لل عوائل و عزاب     10    500  \n",
              "1                                  مخصص لل عوائل و عزاب     10    500  \n",
              "2                                  مخصص لل عوائل و عزاب     10    500  \n",
              "3                                  مخصص لل عوائل و عزاب     10    500  \n",
              "4                                  مخصص لل عوائل و عزاب    9.5    450  \n",
              "...                                                 ...    ...    ...  \n",
              "2415                                  مخصص لل عوائل فقط      0    400  \n",
              "2416                                  مخصص لل عوائل فقط    4.8    800  \n",
              "2417                               مخصص لل عوائل و عزاب      0  1,200  \n",
              "2418                               مخصص لل عوائل و عزاب    7.1    390  \n",
              "2419  \\n                            \\n              ...   ليلة    690  \n",
              "\n",
              "[2420 rows x 6 columns]"
            ]
          },
          "execution_count": 4,
          "metadata": {},
          "output_type": "execute_result"
        }
      ],
      "source": [
        "df"
      ]
    },
    {
      "cell_type": "code",
      "execution_count": null,
      "id": "16402101",
      "metadata": {
        "id": "16402101",
        "outputId": "500cef79-6f45-4e74-f3ae-24cc42fa6bd5"
      },
      "outputs": [
        {
          "data": {
            "text/plain": [
              "(2420, 6)"
            ]
          },
          "execution_count": 101,
          "metadata": {},
          "output_type": "execute_result"
        }
      ],
      "source": [
        "# inspect dataset shape.\n",
        "df.shape"
      ]
    },
    {
      "cell_type": "code",
      "execution_count": null,
      "id": "5bb4cfa8",
      "metadata": {
        "id": "5bb4cfa8",
        "outputId": "9debe1e1-337b-4257-dd96-a1e22f4b24cd"
      },
      "outputs": [
        {
          "data": {
            "text/plain": [
              "property    object\n",
              "city        object\n",
              "area        object\n",
              "category    object\n",
              "rating      object\n",
              "price       object\n",
              "dtype: object"
            ]
          },
          "execution_count": 102,
          "metadata": {},
          "output_type": "execute_result"
        }
      ],
      "source": [
        "# inspect data type for each column.\n",
        "df.dtypes\n",
        "\n"
      ]
    },
    {
      "cell_type": "code",
      "execution_count": null,
      "id": "0a228594",
      "metadata": {
        "id": "0a228594",
        "outputId": "76a59cf3-e5d2-46ff-8c5a-e90a0f761e02"
      },
      "outputs": [
        {
          "data": {
            "text/plain": [
              "property    2\n",
              "city        0\n",
              "area        0\n",
              "category    0\n",
              "rating      0\n",
              "price       0\n",
              "dtype: int64"
            ]
          },
          "execution_count": 103,
          "metadata": {},
          "output_type": "execute_result"
        }
      ],
      "source": [
        "# inspect data set for missing values\n",
        "df.isna().sum() "
      ]
    },
    {
      "cell_type": "code",
      "execution_count": null,
      "id": "7abedb48",
      "metadata": {
        "scrolled": true,
        "id": "7abedb48",
        "outputId": "c86397bb-ef3a-4981-8668-e9f02855eeae"
      },
      "outputs": [
        {
          "name": "stdout",
          "output_type": "stream",
          "text": [
            "<class 'pandas.core.frame.DataFrame'>\n",
            "RangeIndex: 2420 entries, 0 to 2419\n",
            "Data columns (total 6 columns):\n",
            " #   Column    Non-Null Count  Dtype \n",
            "---  ------    --------------  ----- \n",
            " 0   property  2418 non-null   object\n",
            " 1   city      2420 non-null   object\n",
            " 2   area      2420 non-null   object\n",
            " 3   category  2420 non-null   object\n",
            " 4   rating    2420 non-null   object\n",
            " 5   price     2420 non-null   object\n",
            "dtypes: object(6)\n",
            "memory usage: 113.6+ KB\n"
          ]
        }
      ],
      "source": [
        "df.info()"
      ]
    },
    {
      "cell_type": "code",
      "execution_count": null,
      "id": "2c15ea7c",
      "metadata": {
        "id": "2c15ea7c",
        "outputId": "d24baef3-66b9-4d29-fece-15ecd44b4172"
      },
      "outputs": [
        {
          "data": {
            "text/plain": [
              "Index([' الرياض - حي الرمال', ' الرياض - حي الثمامة', ' الرياض - حي القيروان',\n",
              "       ' الرياض - حي العارض', ' الرياض - حي نمار', ' الرياض - العمارية',\n",
              "       ' الرياض - حي المهدية', ' الرياض - حي بنبان', ' الرياض - حي ديراب',\n",
              "       ' الرياض - حي الملقا', ' الرياض - حي العاذرية', ' الرياض - الدرعية',\n",
              "       ' الرياض - حي الجبيلة', ' الرياض - العوالي (نمار)',\n",
              "       ' الرياض - حي ظهرة لبن', ' الرياض - حي الخير',\n",
              "       ' الرياض - حي ضاحية نمار', ' الرياض - حي قرطبة', ' الرياض - حي العليا',\n",
              "       ' الرياض - حي النرجس', ' الرياض - حي الفلاح', ' الرياض - حي المربع',\n",
              "       ' الرياض - حي الياسمين', ' الرياض - حي لبن', ' الرياض - حي عريض',\n",
              "       ' الرياض - حي المناخ', ' الرياض - حي الطوقي', ' الرياض - حي حطين',\n",
              "       ' الرياض - حي الصحافة', ' الرياض - حي السعادة', ' الرياض - القدية',\n",
              "       ' المزاحمية - حي الخرارة', ' الرياض - حي المونسية',\n",
              "       ' المزاحمية - حي الفيصلية', ' الرياض - حي الرفيعة',\n",
              "       ' الرياض - حي الجنادرية', ' الرياض - حي العوالي', ' الرياض - حي الروضة',\n",
              "       ' الرياض - حي العقيق', ' الرياض - ديراب '],\n",
              "      dtype='object')"
            ]
          },
          "execution_count": 105,
          "metadata": {},
          "output_type": "execute_result"
        }
      ],
      "source": [
        "df.city.value_counts()[df.city.value_counts().values>10].index"
      ]
    },
    {
      "cell_type": "code",
      "execution_count": null,
      "id": "4106c8cf",
      "metadata": {
        "id": "4106c8cf",
        "outputId": "11d3a266-2325-4d7e-ab9a-088cb0a3ed6b"
      },
      "outputs": [
        {
          "data": {
            "text/plain": [
              " الرياض - حي الرمال           680\n",
              " الرياض - حي الثمامة          212\n",
              " الرياض - حي القيروان         103\n",
              " الرياض - حي العارض           100\n",
              " الرياض - حي نمار              67\n",
              "                             ... \n",
              " الرياض - حي الخليج             1\n",
              " الرياض - حي الناصرية           1\n",
              " المزاحمية - حي طويق            1\n",
              " الرياض - أم الحمام الغربي      1\n",
              " القرينه - حي القرينه           1\n",
              "Name: city, Length: 124, dtype: int64"
            ]
          },
          "execution_count": 106,
          "metadata": {},
          "output_type": "execute_result"
        }
      ],
      "source": [
        "df.city.value_counts()"
      ]
    },
    {
      "cell_type": "code",
      "execution_count": null,
      "id": "a039277b",
      "metadata": {
        "id": "a039277b"
      },
      "outputs": [],
      "source": [
        "df_clean = df.copy()\n",
        "df_clean['property_type'] = ''"
      ]
    },
    {
      "cell_type": "code",
      "execution_count": null,
      "id": "609c7f7e",
      "metadata": {
        "id": "609c7f7e",
        "outputId": "f2889744-32fd-4b6e-a59a-b479555a2e30"
      },
      "outputs": [
        {
          "data": {
            "text/html": [
              "<div>\n",
              "<style scoped>\n",
              "    .dataframe tbody tr th:only-of-type {\n",
              "        vertical-align: middle;\n",
              "    }\n",
              "\n",
              "    .dataframe tbody tr th {\n",
              "        vertical-align: top;\n",
              "    }\n",
              "\n",
              "    .dataframe thead th {\n",
              "        text-align: right;\n",
              "    }\n",
              "</style>\n",
              "<table border=\"1\" class=\"dataframe\">\n",
              "  <thead>\n",
              "    <tr style=\"text-align: right;\">\n",
              "      <th></th>\n",
              "      <th>property</th>\n",
              "      <th>city</th>\n",
              "      <th>area</th>\n",
              "      <th>category</th>\n",
              "      <th>rating</th>\n",
              "      <th>price</th>\n",
              "      <th>property_type</th>\n",
              "    </tr>\n",
              "  </thead>\n",
              "  <tbody>\n",
              "    <tr>\n",
              "      <th>0</th>\n",
              "      <td>شاليه بمسبح وغرفة نوم</td>\n",
              "      <td>الرياض - حي المناخ</td>\n",
              "      <td>مساحة الوحدة 148 م2</td>\n",
              "      <td>مخصص لل عوائل و عزاب</td>\n",
              "      <td>10</td>\n",
              "      <td>500</td>\n",
              "      <td></td>\n",
              "    </tr>\n",
              "    <tr>\n",
              "      <th>1</th>\n",
              "      <td>شاليه بصالة مطلة على المسبح</td>\n",
              "      <td>الرياض - حي المناخ</td>\n",
              "      <td>مساحة الوحدة 148 م2</td>\n",
              "      <td>مخصص لل عوائل و عزاب</td>\n",
              "      <td>10</td>\n",
              "      <td>500</td>\n",
              "      <td></td>\n",
              "    </tr>\n",
              "    <tr>\n",
              "      <th>2</th>\n",
              "      <td>شاليه بجلسة خارجية على المسبح</td>\n",
              "      <td>الرياض - حي المناخ</td>\n",
              "      <td>مساحة الوحدة 148 م2</td>\n",
              "      <td>مخصص لل عوائل و عزاب</td>\n",
              "      <td>10</td>\n",
              "      <td>500</td>\n",
              "      <td></td>\n",
              "    </tr>\n",
              "    <tr>\n",
              "      <th>3</th>\n",
              "      <td>شاليه بمسطح اخضر وجلسة خارجية</td>\n",
              "      <td>الرياض - حي المناخ</td>\n",
              "      <td>مساحة الوحدة 148 م2</td>\n",
              "      <td>مخصص لل عوائل و عزاب</td>\n",
              "      <td>10</td>\n",
              "      <td>500</td>\n",
              "      <td></td>\n",
              "    </tr>\n",
              "    <tr>\n",
              "      <th>4</th>\n",
              "      <td>شاليه بجلسة تطل على مسبح داخلي</td>\n",
              "      <td>الرياض - حي الرمال</td>\n",
              "      <td>مساحة الوحدة 450 م2</td>\n",
              "      <td>مخصص لل عوائل و عزاب</td>\n",
              "      <td>9.5</td>\n",
              "      <td>450</td>\n",
              "      <td></td>\n",
              "    </tr>\n",
              "    <tr>\n",
              "      <th>...</th>\n",
              "      <td>...</td>\n",
              "      <td>...</td>\n",
              "      <td>...</td>\n",
              "      <td>...</td>\n",
              "      <td>...</td>\n",
              "      <td>...</td>\n",
              "      <td>...</td>\n",
              "    </tr>\n",
              "    <tr>\n",
              "      <th>2415</th>\n",
              "      <td>شقة بغرفة جلوس وغرفة نوم</td>\n",
              "      <td>الرياض - حي غرناطة</td>\n",
              "      <td>مساحة الوحدة 175 م2</td>\n",
              "      <td>مخصص لل عوائل فقط</td>\n",
              "      <td>0</td>\n",
              "      <td>400</td>\n",
              "      <td></td>\n",
              "    </tr>\n",
              "    <tr>\n",
              "      <th>2416</th>\n",
              "      <td>مخيم بجلسة خارجية وألعاب أطفال</td>\n",
              "      <td>الرياض - حي بنبان</td>\n",
              "      <td>مساحة الوحدة 1000 م2</td>\n",
              "      <td>مخصص لل عوائل فقط</td>\n",
              "      <td>4.8</td>\n",
              "      <td>800</td>\n",
              "      <td></td>\n",
              "    </tr>\n",
              "    <tr>\n",
              "      <th>2417</th>\n",
              "      <td>مخيم بملعب طائره وبروجكتر (قسم رجال)</td>\n",
              "      <td>الرياض - حي الثمامة</td>\n",
              "      <td>مساحة الوحدة 2000 م2</td>\n",
              "      <td>مخصص لل عوائل و عزاب</td>\n",
              "      <td>0</td>\n",
              "      <td>1,200</td>\n",
              "      <td></td>\n",
              "    </tr>\n",
              "    <tr>\n",
              "      <th>2418</th>\n",
              "      <td>شقة بغرفتين نوم وغرفة جلوس</td>\n",
              "      <td>الرياض - حي الملقا</td>\n",
              "      <td>مساحة الوحدة 200 م2</td>\n",
              "      <td>مخصص لل عوائل و عزاب</td>\n",
              "      <td>7.1</td>\n",
              "      <td>390</td>\n",
              "      <td></td>\n",
              "    </tr>\n",
              "    <tr>\n",
              "      <th>2419</th>\n",
              "      <td>NaN</td>\n",
              "      <td>\\n                            \\n              ...</td>\n",
              "      <td>\\n                            \\n              ...</td>\n",
              "      <td>\\n                            \\n              ...</td>\n",
              "      <td>ليلة</td>\n",
              "      <td>690</td>\n",
              "      <td></td>\n",
              "    </tr>\n",
              "  </tbody>\n",
              "</table>\n",
              "<p>2420 rows × 7 columns</p>\n",
              "</div>"
            ],
            "text/plain": [
              "                                  property  \\\n",
              "0                   شاليه بمسبح وغرفة نوم    \n",
              "1             شاليه بصالة مطلة على المسبح    \n",
              "2           شاليه بجلسة خارجية على المسبح    \n",
              "3           شاليه بمسطح اخضر وجلسة خارجية    \n",
              "4          شاليه بجلسة تطل على مسبح داخلي    \n",
              "...                                    ...   \n",
              "2415              شقة بغرفة جلوس وغرفة نوم   \n",
              "2416       مخيم بجلسة خارجية وألعاب أطفال    \n",
              "2417  مخيم بملعب طائره وبروجكتر (قسم رجال)   \n",
              "2418           شقة بغرفتين نوم وغرفة جلوس    \n",
              "2419                                   NaN   \n",
              "\n",
              "                                                   city  \\\n",
              "0                                    الرياض - حي المناخ   \n",
              "1                                    الرياض - حي المناخ   \n",
              "2                                    الرياض - حي المناخ   \n",
              "3                                    الرياض - حي المناخ   \n",
              "4                                    الرياض - حي الرمال   \n",
              "...                                                 ...   \n",
              "2415                                 الرياض - حي غرناطة   \n",
              "2416                                  الرياض - حي بنبان   \n",
              "2417                                الرياض - حي الثمامة   \n",
              "2418                                 الرياض - حي الملقا   \n",
              "2419  \\n                            \\n              ...   \n",
              "\n",
              "                                                   area  \\\n",
              "0                                   مساحة الوحدة 148 م2   \n",
              "1                                   مساحة الوحدة 148 م2   \n",
              "2                                   مساحة الوحدة 148 م2   \n",
              "3                                   مساحة الوحدة 148 م2   \n",
              "4                                   مساحة الوحدة 450 م2   \n",
              "...                                                 ...   \n",
              "2415                                مساحة الوحدة 175 م2   \n",
              "2416                               مساحة الوحدة 1000 م2   \n",
              "2417                               مساحة الوحدة 2000 م2   \n",
              "2418                                مساحة الوحدة 200 م2   \n",
              "2419  \\n                            \\n              ...   \n",
              "\n",
              "                                               category rating  price  \\\n",
              "0                                  مخصص لل عوائل و عزاب     10    500   \n",
              "1                                  مخصص لل عوائل و عزاب     10    500   \n",
              "2                                  مخصص لل عوائل و عزاب     10    500   \n",
              "3                                  مخصص لل عوائل و عزاب     10    500   \n",
              "4                                  مخصص لل عوائل و عزاب    9.5    450   \n",
              "...                                                 ...    ...    ...   \n",
              "2415                                  مخصص لل عوائل فقط      0    400   \n",
              "2416                                  مخصص لل عوائل فقط    4.8    800   \n",
              "2417                               مخصص لل عوائل و عزاب      0  1,200   \n",
              "2418                               مخصص لل عوائل و عزاب    7.1    390   \n",
              "2419  \\n                            \\n              ...   ليلة    690   \n",
              "\n",
              "     property_type  \n",
              "0                   \n",
              "1                   \n",
              "2                   \n",
              "3                   \n",
              "4                   \n",
              "...            ...  \n",
              "2415                \n",
              "2416                \n",
              "2417                \n",
              "2418                \n",
              "2419                \n",
              "\n",
              "[2420 rows x 7 columns]"
            ]
          },
          "execution_count": 108,
          "metadata": {},
          "output_type": "execute_result"
        }
      ],
      "source": [
        "df_clean"
      ]
    },
    {
      "cell_type": "code",
      "execution_count": null,
      "id": "1de37164",
      "metadata": {
        "id": "1de37164"
      },
      "outputs": [],
      "source": [
        "#drob null values by rows\n",
        "df_clean.dropna(subset=['property'],inplace=True) "
      ]
    },
    {
      "cell_type": "code",
      "execution_count": null,
      "id": "a7f807ae",
      "metadata": {
        "id": "a7f807ae"
      },
      "outputs": [],
      "source": [
        "df_clean.area = df_clean.area.str.extract(r'(\\d+)')"
      ]
    },
    {
      "cell_type": "code",
      "execution_count": null,
      "id": "6f1560c6",
      "metadata": {
        "id": "6f1560c6"
      },
      "outputs": [],
      "source": [
        "df_clean.price = df_clean.price.str.replace(',', '')"
      ]
    },
    {
      "cell_type": "code",
      "execution_count": null,
      "id": "240b9234",
      "metadata": {
        "id": "240b9234",
        "outputId": "64b10607-a553-46d6-ab5e-bb1f0877d380"
      },
      "outputs": [
        {
          "data": {
            "text/html": [
              "<div>\n",
              "<style scoped>\n",
              "    .dataframe tbody tr th:only-of-type {\n",
              "        vertical-align: middle;\n",
              "    }\n",
              "\n",
              "    .dataframe tbody tr th {\n",
              "        vertical-align: top;\n",
              "    }\n",
              "\n",
              "    .dataframe thead th {\n",
              "        text-align: right;\n",
              "    }\n",
              "</style>\n",
              "<table border=\"1\" class=\"dataframe\">\n",
              "  <thead>\n",
              "    <tr style=\"text-align: right;\">\n",
              "      <th></th>\n",
              "      <th>property</th>\n",
              "      <th>city</th>\n",
              "      <th>area</th>\n",
              "      <th>category</th>\n",
              "      <th>rating</th>\n",
              "      <th>price</th>\n",
              "      <th>property_type</th>\n",
              "    </tr>\n",
              "  </thead>\n",
              "  <tbody>\n",
              "    <tr>\n",
              "      <th>0</th>\n",
              "      <td>شاليه بمسبح وغرفة نوم</td>\n",
              "      <td>الرياض - حي المناخ</td>\n",
              "      <td>148</td>\n",
              "      <td>مخصص لل عوائل و عزاب</td>\n",
              "      <td>10.0</td>\n",
              "      <td>500</td>\n",
              "      <td></td>\n",
              "    </tr>\n",
              "    <tr>\n",
              "      <th>1</th>\n",
              "      <td>شاليه بصالة مطلة على المسبح</td>\n",
              "      <td>الرياض - حي المناخ</td>\n",
              "      <td>148</td>\n",
              "      <td>مخصص لل عوائل و عزاب</td>\n",
              "      <td>10.0</td>\n",
              "      <td>500</td>\n",
              "      <td></td>\n",
              "    </tr>\n",
              "    <tr>\n",
              "      <th>2</th>\n",
              "      <td>شاليه بجلسة خارجية على المسبح</td>\n",
              "      <td>الرياض - حي المناخ</td>\n",
              "      <td>148</td>\n",
              "      <td>مخصص لل عوائل و عزاب</td>\n",
              "      <td>10.0</td>\n",
              "      <td>500</td>\n",
              "      <td></td>\n",
              "    </tr>\n",
              "    <tr>\n",
              "      <th>3</th>\n",
              "      <td>شاليه بمسطح اخضر وجلسة خارجية</td>\n",
              "      <td>الرياض - حي المناخ</td>\n",
              "      <td>148</td>\n",
              "      <td>مخصص لل عوائل و عزاب</td>\n",
              "      <td>10.0</td>\n",
              "      <td>500</td>\n",
              "      <td></td>\n",
              "    </tr>\n",
              "    <tr>\n",
              "      <th>4</th>\n",
              "      <td>شاليه بجلسة تطل على مسبح داخلي</td>\n",
              "      <td>الرياض - حي الرمال</td>\n",
              "      <td>450</td>\n",
              "      <td>مخصص لل عوائل و عزاب</td>\n",
              "      <td>9.5</td>\n",
              "      <td>450</td>\n",
              "      <td></td>\n",
              "    </tr>\n",
              "    <tr>\n",
              "      <th>...</th>\n",
              "      <td>...</td>\n",
              "      <td>...</td>\n",
              "      <td>...</td>\n",
              "      <td>...</td>\n",
              "      <td>...</td>\n",
              "      <td>...</td>\n",
              "      <td>...</td>\n",
              "    </tr>\n",
              "    <tr>\n",
              "      <th>2414</th>\n",
              "      <td>شقة بصالة وغرفتين نوم</td>\n",
              "      <td>الرياض - حي النهضة</td>\n",
              "      <td>200</td>\n",
              "      <td>مخصص لل عوائل و عزاب</td>\n",
              "      <td>0.0</td>\n",
              "      <td>249</td>\n",
              "      <td></td>\n",
              "    </tr>\n",
              "    <tr>\n",
              "      <th>2415</th>\n",
              "      <td>شقة بغرفة جلوس وغرفة نوم</td>\n",
              "      <td>الرياض - حي غرناطة</td>\n",
              "      <td>175</td>\n",
              "      <td>مخصص لل عوائل فقط</td>\n",
              "      <td>0.0</td>\n",
              "      <td>400</td>\n",
              "      <td></td>\n",
              "    </tr>\n",
              "    <tr>\n",
              "      <th>2416</th>\n",
              "      <td>مخيم بجلسة خارجية وألعاب أطفال</td>\n",
              "      <td>الرياض - حي بنبان</td>\n",
              "      <td>1000</td>\n",
              "      <td>مخصص لل عوائل فقط</td>\n",
              "      <td>4.8</td>\n",
              "      <td>800</td>\n",
              "      <td></td>\n",
              "    </tr>\n",
              "    <tr>\n",
              "      <th>2417</th>\n",
              "      <td>مخيم بملعب طائره وبروجكتر (قسم رجال)</td>\n",
              "      <td>الرياض - حي الثمامة</td>\n",
              "      <td>2000</td>\n",
              "      <td>مخصص لل عوائل و عزاب</td>\n",
              "      <td>0.0</td>\n",
              "      <td>1200</td>\n",
              "      <td></td>\n",
              "    </tr>\n",
              "    <tr>\n",
              "      <th>2418</th>\n",
              "      <td>شقة بغرفتين نوم وغرفة جلوس</td>\n",
              "      <td>الرياض - حي الملقا</td>\n",
              "      <td>200</td>\n",
              "      <td>مخصص لل عوائل و عزاب</td>\n",
              "      <td>7.1</td>\n",
              "      <td>390</td>\n",
              "      <td></td>\n",
              "    </tr>\n",
              "  </tbody>\n",
              "</table>\n",
              "<p>2418 rows × 7 columns</p>\n",
              "</div>"
            ],
            "text/plain": [
              "                                  property                  city  area  \\\n",
              "0                   شاليه بمسبح وغرفة نوم     الرياض - حي المناخ   148   \n",
              "1             شاليه بصالة مطلة على المسبح     الرياض - حي المناخ   148   \n",
              "2           شاليه بجلسة خارجية على المسبح     الرياض - حي المناخ   148   \n",
              "3           شاليه بمسطح اخضر وجلسة خارجية     الرياض - حي المناخ   148   \n",
              "4          شاليه بجلسة تطل على مسبح داخلي     الرياض - حي الرمال   450   \n",
              "...                                    ...                   ...   ...   \n",
              "2414                 شقة بصالة وغرفتين نوم    الرياض - حي النهضة   200   \n",
              "2415              شقة بغرفة جلوس وغرفة نوم    الرياض - حي غرناطة   175   \n",
              "2416       مخيم بجلسة خارجية وألعاب أطفال      الرياض - حي بنبان  1000   \n",
              "2417  مخيم بملعب طائره وبروجكتر (قسم رجال)   الرياض - حي الثمامة  2000   \n",
              "2418           شقة بغرفتين نوم وغرفة جلوس     الرياض - حي الملقا   200   \n",
              "\n",
              "                   category  rating  price property_type  \n",
              "0      مخصص لل عوائل و عزاب    10.0    500                \n",
              "1      مخصص لل عوائل و عزاب    10.0    500                \n",
              "2      مخصص لل عوائل و عزاب    10.0    500                \n",
              "3      مخصص لل عوائل و عزاب    10.0    500                \n",
              "4      مخصص لل عوائل و عزاب     9.5    450                \n",
              "...                     ...     ...    ...           ...  \n",
              "2414   مخصص لل عوائل و عزاب     0.0    249                \n",
              "2415      مخصص لل عوائل فقط     0.0    400                \n",
              "2416      مخصص لل عوائل فقط     4.8    800                \n",
              "2417   مخصص لل عوائل و عزاب     0.0   1200                \n",
              "2418   مخصص لل عوائل و عزاب     7.1    390                \n",
              "\n",
              "[2418 rows x 7 columns]"
            ]
          },
          "execution_count": 112,
          "metadata": {},
          "output_type": "execute_result"
        }
      ],
      "source": [
        "df_clean[['price','area']] = df_clean[['price','area']].astype('int64') \n",
        "df_clean['rating'] = df_clean['rating'].astype('float') \n",
        "df_clean"
      ]
    },
    {
      "cell_type": "code",
      "execution_count": null,
      "id": "e6630d46",
      "metadata": {
        "id": "e6630d46"
      },
      "outputs": [],
      "source": [
        "\n",
        "for index, row in df_clean.iterrows():\n",
        "    string = row['property']\n",
        "    pattern = re.search('شاليه|فيلا|شالية|كوخ',string, re.I)\n",
        "    if pattern:\n",
        "        df_clean.loc[index,'property_type'] = 'chalet'\n",
        "        \n",
        "        \n",
        "    pattern = re.search('مخيم|خيمه|كرفان|خيمة',string, re.I)\n",
        "    if pattern:\n",
        "        df_clean.loc[index,'property_type'] = 'camp'\n",
        "        \n",
        "        \n",
        "    pattern = re.search('شقة|استديو|غرفة|شقه|استوديو|دورارضي',string, re.I)\n",
        "    if pattern:\n",
        "        df_clean.loc[index,'property_type'] = 'apartment'\n",
        "        \n",
        "        \n",
        "    pattern = re.search('مزرعة|استراحة|استراحه|مزرعه|اسطبل|إسطبل|إستراحه|أستراحة',string, re.I)\n",
        "    if pattern:\n",
        "        df_clean.loc[index,'property_type'] = 'farm'\n",
        "        \n",
        "        \n",
        "    pattern = re.search('منتجع',string, re.I)\n",
        "    if pattern:\n",
        "        df_clean.loc[index,'property_type'] = 'resort'\n",
        "        "
      ]
    },
    {
      "cell_type": "code",
      "execution_count": null,
      "id": "09d34a72",
      "metadata": {
        "id": "09d34a72"
      },
      "outputs": [],
      "source": [
        "df_clean.drop(df_clean[df_clean.property_type == ''].index , inplace=True)"
      ]
    },
    {
      "cell_type": "code",
      "execution_count": null,
      "id": "f73ea2dc",
      "metadata": {
        "scrolled": false,
        "id": "f73ea2dc",
        "outputId": "a379dc3c-17e4-4f59-f66c-4ac1f9dad172"
      },
      "outputs": [
        {
          "data": {
            "text/html": [
              "<div>\n",
              "<style scoped>\n",
              "    .dataframe tbody tr th:only-of-type {\n",
              "        vertical-align: middle;\n",
              "    }\n",
              "\n",
              "    .dataframe tbody tr th {\n",
              "        vertical-align: top;\n",
              "    }\n",
              "\n",
              "    .dataframe thead th {\n",
              "        text-align: right;\n",
              "    }\n",
              "</style>\n",
              "<table border=\"1\" class=\"dataframe\">\n",
              "  <thead>\n",
              "    <tr style=\"text-align: right;\">\n",
              "      <th></th>\n",
              "      <th>property</th>\n",
              "      <th>city</th>\n",
              "      <th>area</th>\n",
              "      <th>category</th>\n",
              "      <th>rating</th>\n",
              "      <th>price</th>\n",
              "      <th>property_type</th>\n",
              "    </tr>\n",
              "  </thead>\n",
              "  <tbody>\n",
              "    <tr>\n",
              "      <th>0</th>\n",
              "      <td>شاليه بمسبح وغرفة نوم</td>\n",
              "      <td>الرياض - حي المناخ</td>\n",
              "      <td>148</td>\n",
              "      <td>مخصص لل عوائل و عزاب</td>\n",
              "      <td>10.0</td>\n",
              "      <td>500</td>\n",
              "      <td>apartment</td>\n",
              "    </tr>\n",
              "    <tr>\n",
              "      <th>1</th>\n",
              "      <td>شاليه بصالة مطلة على المسبح</td>\n",
              "      <td>الرياض - حي المناخ</td>\n",
              "      <td>148</td>\n",
              "      <td>مخصص لل عوائل و عزاب</td>\n",
              "      <td>10.0</td>\n",
              "      <td>500</td>\n",
              "      <td>chalet</td>\n",
              "    </tr>\n",
              "    <tr>\n",
              "      <th>2</th>\n",
              "      <td>شاليه بجلسة خارجية على المسبح</td>\n",
              "      <td>الرياض - حي المناخ</td>\n",
              "      <td>148</td>\n",
              "      <td>مخصص لل عوائل و عزاب</td>\n",
              "      <td>10.0</td>\n",
              "      <td>500</td>\n",
              "      <td>chalet</td>\n",
              "    </tr>\n",
              "    <tr>\n",
              "      <th>3</th>\n",
              "      <td>شاليه بمسطح اخضر وجلسة خارجية</td>\n",
              "      <td>الرياض - حي المناخ</td>\n",
              "      <td>148</td>\n",
              "      <td>مخصص لل عوائل و عزاب</td>\n",
              "      <td>10.0</td>\n",
              "      <td>500</td>\n",
              "      <td>chalet</td>\n",
              "    </tr>\n",
              "    <tr>\n",
              "      <th>4</th>\n",
              "      <td>شاليه بجلسة تطل على مسبح داخلي</td>\n",
              "      <td>الرياض - حي الرمال</td>\n",
              "      <td>450</td>\n",
              "      <td>مخصص لل عوائل و عزاب</td>\n",
              "      <td>9.5</td>\n",
              "      <td>450</td>\n",
              "      <td>chalet</td>\n",
              "    </tr>\n",
              "    <tr>\n",
              "      <th>...</th>\n",
              "      <td>...</td>\n",
              "      <td>...</td>\n",
              "      <td>...</td>\n",
              "      <td>...</td>\n",
              "      <td>...</td>\n",
              "      <td>...</td>\n",
              "      <td>...</td>\n",
              "    </tr>\n",
              "    <tr>\n",
              "      <th>2414</th>\n",
              "      <td>شقة بصالة وغرفتين نوم</td>\n",
              "      <td>الرياض - حي النهضة</td>\n",
              "      <td>200</td>\n",
              "      <td>مخصص لل عوائل و عزاب</td>\n",
              "      <td>0.0</td>\n",
              "      <td>249</td>\n",
              "      <td>apartment</td>\n",
              "    </tr>\n",
              "    <tr>\n",
              "      <th>2415</th>\n",
              "      <td>شقة بغرفة جلوس وغرفة نوم</td>\n",
              "      <td>الرياض - حي غرناطة</td>\n",
              "      <td>175</td>\n",
              "      <td>مخصص لل عوائل فقط</td>\n",
              "      <td>0.0</td>\n",
              "      <td>400</td>\n",
              "      <td>apartment</td>\n",
              "    </tr>\n",
              "    <tr>\n",
              "      <th>2416</th>\n",
              "      <td>مخيم بجلسة خارجية وألعاب أطفال</td>\n",
              "      <td>الرياض - حي بنبان</td>\n",
              "      <td>1000</td>\n",
              "      <td>مخصص لل عوائل فقط</td>\n",
              "      <td>4.8</td>\n",
              "      <td>800</td>\n",
              "      <td>camp</td>\n",
              "    </tr>\n",
              "    <tr>\n",
              "      <th>2417</th>\n",
              "      <td>مخيم بملعب طائره وبروجكتر (قسم رجال)</td>\n",
              "      <td>الرياض - حي الثمامة</td>\n",
              "      <td>2000</td>\n",
              "      <td>مخصص لل عوائل و عزاب</td>\n",
              "      <td>0.0</td>\n",
              "      <td>1200</td>\n",
              "      <td>camp</td>\n",
              "    </tr>\n",
              "    <tr>\n",
              "      <th>2418</th>\n",
              "      <td>شقة بغرفتين نوم وغرفة جلوس</td>\n",
              "      <td>الرياض - حي الملقا</td>\n",
              "      <td>200</td>\n",
              "      <td>مخصص لل عوائل و عزاب</td>\n",
              "      <td>7.1</td>\n",
              "      <td>390</td>\n",
              "      <td>apartment</td>\n",
              "    </tr>\n",
              "  </tbody>\n",
              "</table>\n",
              "<p>2402 rows × 7 columns</p>\n",
              "</div>"
            ],
            "text/plain": [
              "                                  property                  city  area  \\\n",
              "0                   شاليه بمسبح وغرفة نوم     الرياض - حي المناخ   148   \n",
              "1             شاليه بصالة مطلة على المسبح     الرياض - حي المناخ   148   \n",
              "2           شاليه بجلسة خارجية على المسبح     الرياض - حي المناخ   148   \n",
              "3           شاليه بمسطح اخضر وجلسة خارجية     الرياض - حي المناخ   148   \n",
              "4          شاليه بجلسة تطل على مسبح داخلي     الرياض - حي الرمال   450   \n",
              "...                                    ...                   ...   ...   \n",
              "2414                 شقة بصالة وغرفتين نوم    الرياض - حي النهضة   200   \n",
              "2415              شقة بغرفة جلوس وغرفة نوم    الرياض - حي غرناطة   175   \n",
              "2416       مخيم بجلسة خارجية وألعاب أطفال      الرياض - حي بنبان  1000   \n",
              "2417  مخيم بملعب طائره وبروجكتر (قسم رجال)   الرياض - حي الثمامة  2000   \n",
              "2418           شقة بغرفتين نوم وغرفة جلوس     الرياض - حي الملقا   200   \n",
              "\n",
              "                   category  rating  price property_type  \n",
              "0      مخصص لل عوائل و عزاب    10.0    500     apartment  \n",
              "1      مخصص لل عوائل و عزاب    10.0    500        chalet  \n",
              "2      مخصص لل عوائل و عزاب    10.0    500        chalet  \n",
              "3      مخصص لل عوائل و عزاب    10.0    500        chalet  \n",
              "4      مخصص لل عوائل و عزاب     9.5    450        chalet  \n",
              "...                     ...     ...    ...           ...  \n",
              "2414   مخصص لل عوائل و عزاب     0.0    249     apartment  \n",
              "2415      مخصص لل عوائل فقط     0.0    400     apartment  \n",
              "2416      مخصص لل عوائل فقط     4.8    800          camp  \n",
              "2417   مخصص لل عوائل و عزاب     0.0   1200          camp  \n",
              "2418   مخصص لل عوائل و عزاب     7.1    390     apartment  \n",
              "\n",
              "[2402 rows x 7 columns]"
            ]
          },
          "execution_count": 115,
          "metadata": {},
          "output_type": "execute_result"
        }
      ],
      "source": [
        "df_clean"
      ]
    },
    {
      "cell_type": "code",
      "execution_count": null,
      "id": "f5d07f01",
      "metadata": {
        "id": "f5d07f01",
        "outputId": "a8c40721-940a-41ff-a3ba-e85cdc988802"
      },
      "outputs": [
        {
          "data": {
            "text/plain": [
              "Index(['شاليه بمسطح اخضر', 'مخيم  بجلسة خارجية وبيت شعر ', 'شاليه بركن شواء ',\n",
              "       'شاليه بمسبح وجلسة خارجية', 'مخيم بجلسة خارجية وبيت شعر ',\n",
              "       'شاليه بجلسة مطلة على المسبح', 'شاليه بجلسة تطل على مسبح خارجي ',\n",
              "       'شاليه بجلسة خارجية ومسطح اخضر', 'شاليه بمسطح اخضر ومسبح',\n",
              "       'مخيم بجلسة عريش وبيت شعر ',\n",
              "       ...\n",
              "       'استراحة بالعاب اطفال وجلسات خارجيه ',\n",
              "       'شاليه بصاله مطلة على المسبح وغرفة نوم',\n",
              "       'فيلا بجلسة خارجية و 4غرف نوم ', 'شاليه بغرفة نوم و مسبح ',\n",
              "       'شاليه بجلسة خارجيه ', 'استراحة قسمين بصاله ومجلس بمشب',\n",
              "       'استراحه بمجلس رئيسي و مسطحات خضراء', 'استديو راقي بدخول ذاتي',\n",
              "       'شاليه غرفة نوم وصالة مع المطبخ',\n",
              "       'شاليه بصالة مطلع على الجلسة الخارجية'],\n",
              "      dtype='object', length=1297)"
            ]
          },
          "execution_count": 116,
          "metadata": {},
          "output_type": "execute_result"
        }
      ],
      "source": [
        "df.property.value_counts().index       "
      ]
    },
    {
      "cell_type": "code",
      "execution_count": null,
      "id": "26f182f7",
      "metadata": {
        "id": "26f182f7",
        "outputId": "43e45d6b-1f5d-40b0-eda0-af3520b5dfea"
      },
      "outputs": [
        {
          "data": {
            "text/html": [
              "<div>\n",
              "<style scoped>\n",
              "    .dataframe tbody tr th:only-of-type {\n",
              "        vertical-align: middle;\n",
              "    }\n",
              "\n",
              "    .dataframe tbody tr th {\n",
              "        vertical-align: top;\n",
              "    }\n",
              "\n",
              "    .dataframe thead th {\n",
              "        text-align: right;\n",
              "    }\n",
              "</style>\n",
              "<table border=\"1\" class=\"dataframe\">\n",
              "  <thead>\n",
              "    <tr style=\"text-align: right;\">\n",
              "      <th></th>\n",
              "      <th>property</th>\n",
              "      <th>city</th>\n",
              "      <th>area</th>\n",
              "      <th>category</th>\n",
              "      <th>rating</th>\n",
              "      <th>price</th>\n",
              "      <th>property_type</th>\n",
              "      <th>pool</th>\n",
              "      <th>garden</th>\n",
              "      <th>outdoor</th>\n",
              "      <th>play_area</th>\n",
              "    </tr>\n",
              "  </thead>\n",
              "  <tbody>\n",
              "    <tr>\n",
              "      <th>0</th>\n",
              "      <td>شاليه بمسبح وغرفة نوم</td>\n",
              "      <td>الرياض - حي المناخ</td>\n",
              "      <td>148</td>\n",
              "      <td>مخصص لل عوائل و عزاب</td>\n",
              "      <td>10.0</td>\n",
              "      <td>500</td>\n",
              "      <td>apartment</td>\n",
              "      <td>0</td>\n",
              "      <td>0</td>\n",
              "      <td>0</td>\n",
              "      <td>0</td>\n",
              "    </tr>\n",
              "    <tr>\n",
              "      <th>1</th>\n",
              "      <td>شاليه بصالة مطلة على المسبح</td>\n",
              "      <td>الرياض - حي المناخ</td>\n",
              "      <td>148</td>\n",
              "      <td>مخصص لل عوائل و عزاب</td>\n",
              "      <td>10.0</td>\n",
              "      <td>500</td>\n",
              "      <td>chalet</td>\n",
              "      <td>0</td>\n",
              "      <td>0</td>\n",
              "      <td>0</td>\n",
              "      <td>0</td>\n",
              "    </tr>\n",
              "    <tr>\n",
              "      <th>2</th>\n",
              "      <td>شاليه بجلسة خارجية على المسبح</td>\n",
              "      <td>الرياض - حي المناخ</td>\n",
              "      <td>148</td>\n",
              "      <td>مخصص لل عوائل و عزاب</td>\n",
              "      <td>10.0</td>\n",
              "      <td>500</td>\n",
              "      <td>chalet</td>\n",
              "      <td>0</td>\n",
              "      <td>0</td>\n",
              "      <td>0</td>\n",
              "      <td>0</td>\n",
              "    </tr>\n",
              "    <tr>\n",
              "      <th>3</th>\n",
              "      <td>شاليه بمسطح اخضر وجلسة خارجية</td>\n",
              "      <td>الرياض - حي المناخ</td>\n",
              "      <td>148</td>\n",
              "      <td>مخصص لل عوائل و عزاب</td>\n",
              "      <td>10.0</td>\n",
              "      <td>500</td>\n",
              "      <td>chalet</td>\n",
              "      <td>0</td>\n",
              "      <td>0</td>\n",
              "      <td>0</td>\n",
              "      <td>0</td>\n",
              "    </tr>\n",
              "    <tr>\n",
              "      <th>4</th>\n",
              "      <td>شاليه بجلسة تطل على مسبح داخلي</td>\n",
              "      <td>الرياض - حي الرمال</td>\n",
              "      <td>450</td>\n",
              "      <td>مخصص لل عوائل و عزاب</td>\n",
              "      <td>9.5</td>\n",
              "      <td>450</td>\n",
              "      <td>chalet</td>\n",
              "      <td>0</td>\n",
              "      <td>0</td>\n",
              "      <td>0</td>\n",
              "      <td>0</td>\n",
              "    </tr>\n",
              "    <tr>\n",
              "      <th>...</th>\n",
              "      <td>...</td>\n",
              "      <td>...</td>\n",
              "      <td>...</td>\n",
              "      <td>...</td>\n",
              "      <td>...</td>\n",
              "      <td>...</td>\n",
              "      <td>...</td>\n",
              "      <td>...</td>\n",
              "      <td>...</td>\n",
              "      <td>...</td>\n",
              "      <td>...</td>\n",
              "    </tr>\n",
              "    <tr>\n",
              "      <th>2414</th>\n",
              "      <td>شقة بصالة وغرفتين نوم</td>\n",
              "      <td>الرياض - حي النهضة</td>\n",
              "      <td>200</td>\n",
              "      <td>مخصص لل عوائل و عزاب</td>\n",
              "      <td>0.0</td>\n",
              "      <td>249</td>\n",
              "      <td>apartment</td>\n",
              "      <td>0</td>\n",
              "      <td>0</td>\n",
              "      <td>0</td>\n",
              "      <td>0</td>\n",
              "    </tr>\n",
              "    <tr>\n",
              "      <th>2415</th>\n",
              "      <td>شقة بغرفة جلوس وغرفة نوم</td>\n",
              "      <td>الرياض - حي غرناطة</td>\n",
              "      <td>175</td>\n",
              "      <td>مخصص لل عوائل فقط</td>\n",
              "      <td>0.0</td>\n",
              "      <td>400</td>\n",
              "      <td>apartment</td>\n",
              "      <td>0</td>\n",
              "      <td>0</td>\n",
              "      <td>0</td>\n",
              "      <td>0</td>\n",
              "    </tr>\n",
              "    <tr>\n",
              "      <th>2416</th>\n",
              "      <td>مخيم بجلسة خارجية وألعاب أطفال</td>\n",
              "      <td>الرياض - حي بنبان</td>\n",
              "      <td>1000</td>\n",
              "      <td>مخصص لل عوائل فقط</td>\n",
              "      <td>4.8</td>\n",
              "      <td>800</td>\n",
              "      <td>camp</td>\n",
              "      <td>0</td>\n",
              "      <td>0</td>\n",
              "      <td>0</td>\n",
              "      <td>0</td>\n",
              "    </tr>\n",
              "    <tr>\n",
              "      <th>2417</th>\n",
              "      <td>مخيم بملعب طائره وبروجكتر (قسم رجال)</td>\n",
              "      <td>الرياض - حي الثمامة</td>\n",
              "      <td>2000</td>\n",
              "      <td>مخصص لل عوائل و عزاب</td>\n",
              "      <td>0.0</td>\n",
              "      <td>1200</td>\n",
              "      <td>camp</td>\n",
              "      <td>0</td>\n",
              "      <td>0</td>\n",
              "      <td>0</td>\n",
              "      <td>0</td>\n",
              "    </tr>\n",
              "    <tr>\n",
              "      <th>2418</th>\n",
              "      <td>شقة بغرفتين نوم وغرفة جلوس</td>\n",
              "      <td>الرياض - حي الملقا</td>\n",
              "      <td>200</td>\n",
              "      <td>مخصص لل عوائل و عزاب</td>\n",
              "      <td>7.1</td>\n",
              "      <td>390</td>\n",
              "      <td>apartment</td>\n",
              "      <td>0</td>\n",
              "      <td>0</td>\n",
              "      <td>0</td>\n",
              "      <td>0</td>\n",
              "    </tr>\n",
              "  </tbody>\n",
              "</table>\n",
              "<p>2402 rows × 11 columns</p>\n",
              "</div>"
            ],
            "text/plain": [
              "                                  property                  city  area  \\\n",
              "0                   شاليه بمسبح وغرفة نوم     الرياض - حي المناخ   148   \n",
              "1             شاليه بصالة مطلة على المسبح     الرياض - حي المناخ   148   \n",
              "2           شاليه بجلسة خارجية على المسبح     الرياض - حي المناخ   148   \n",
              "3           شاليه بمسطح اخضر وجلسة خارجية     الرياض - حي المناخ   148   \n",
              "4          شاليه بجلسة تطل على مسبح داخلي     الرياض - حي الرمال   450   \n",
              "...                                    ...                   ...   ...   \n",
              "2414                 شقة بصالة وغرفتين نوم    الرياض - حي النهضة   200   \n",
              "2415              شقة بغرفة جلوس وغرفة نوم    الرياض - حي غرناطة   175   \n",
              "2416       مخيم بجلسة خارجية وألعاب أطفال      الرياض - حي بنبان  1000   \n",
              "2417  مخيم بملعب طائره وبروجكتر (قسم رجال)   الرياض - حي الثمامة  2000   \n",
              "2418           شقة بغرفتين نوم وغرفة جلوس     الرياض - حي الملقا   200   \n",
              "\n",
              "                   category  rating  price property_type  pool  garden  \\\n",
              "0      مخصص لل عوائل و عزاب    10.0    500     apartment     0       0   \n",
              "1      مخصص لل عوائل و عزاب    10.0    500        chalet     0       0   \n",
              "2      مخصص لل عوائل و عزاب    10.0    500        chalet     0       0   \n",
              "3      مخصص لل عوائل و عزاب    10.0    500        chalet     0       0   \n",
              "4      مخصص لل عوائل و عزاب     9.5    450        chalet     0       0   \n",
              "...                     ...     ...    ...           ...   ...     ...   \n",
              "2414   مخصص لل عوائل و عزاب     0.0    249     apartment     0       0   \n",
              "2415      مخصص لل عوائل فقط     0.0    400     apartment     0       0   \n",
              "2416      مخصص لل عوائل فقط     4.8    800          camp     0       0   \n",
              "2417   مخصص لل عوائل و عزاب     0.0   1200          camp     0       0   \n",
              "2418   مخصص لل عوائل و عزاب     7.1    390     apartment     0       0   \n",
              "\n",
              "      outdoor  play_area  \n",
              "0           0          0  \n",
              "1           0          0  \n",
              "2           0          0  \n",
              "3           0          0  \n",
              "4           0          0  \n",
              "...       ...        ...  \n",
              "2414        0          0  \n",
              "2415        0          0  \n",
              "2416        0          0  \n",
              "2417        0          0  \n",
              "2418        0          0  \n",
              "\n",
              "[2402 rows x 11 columns]"
            ]
          },
          "execution_count": 117,
          "metadata": {},
          "output_type": "execute_result"
        }
      ],
      "source": [
        "df_clean[['pool', 'garden','outdoor','play_area']]= 0\n",
        "df_clean"
      ]
    },
    {
      "cell_type": "code",
      "execution_count": null,
      "id": "25f8ad92",
      "metadata": {
        "id": "25f8ad92"
      },
      "outputs": [],
      "source": [
        "\n",
        "for index, row in df_clean.iterrows():\n",
        "    string = row['property']\n",
        "    pattern = re.search('مسبح|بمسبح|المسبح',string, re.I)\n",
        "    if pattern:\n",
        "        df_clean.loc[index,'pool'] = 1\n",
        "        \n",
        "        \n",
        "    pattern = re.search('مسطح|اخضر|بمسطح',string, re.I)\n",
        "    if pattern:\n",
        "        df_clean.loc[index,'garden'] = 1\n",
        "        \n",
        "        \n",
        "    pattern = re.search('جلسة|بجلسة|خارجية|جلسه|شواء|خارجي|خارجيه|حديقة|الحديقة',string, re.I)\n",
        "    if pattern:\n",
        "        df_clean.loc[index,'outdoor'] = 1\n",
        "        \n",
        "        \n",
        "    pattern = re.search('العاب|ألعاب|ملعب|أطفال|بملعب|اطفال',string, re.I)\n",
        "    if pattern:\n",
        "        df_clean.loc[index,'play_area'] = 1\n"
      ]
    },
    {
      "cell_type": "code",
      "execution_count": null,
      "id": "6f94abfb",
      "metadata": {
        "scrolled": false,
        "id": "6f94abfb",
        "outputId": "6f1df2c6-ce10-4b05-b81c-a01138836b05"
      },
      "outputs": [
        {
          "data": {
            "text/html": [
              "<div>\n",
              "<style scoped>\n",
              "    .dataframe tbody tr th:only-of-type {\n",
              "        vertical-align: middle;\n",
              "    }\n",
              "\n",
              "    .dataframe tbody tr th {\n",
              "        vertical-align: top;\n",
              "    }\n",
              "\n",
              "    .dataframe thead th {\n",
              "        text-align: right;\n",
              "    }\n",
              "</style>\n",
              "<table border=\"1\" class=\"dataframe\">\n",
              "  <thead>\n",
              "    <tr style=\"text-align: right;\">\n",
              "      <th></th>\n",
              "      <th>property</th>\n",
              "      <th>city</th>\n",
              "      <th>area</th>\n",
              "      <th>category</th>\n",
              "      <th>rating</th>\n",
              "      <th>price</th>\n",
              "      <th>property_type</th>\n",
              "      <th>pool</th>\n",
              "      <th>garden</th>\n",
              "      <th>outdoor</th>\n",
              "      <th>play_area</th>\n",
              "    </tr>\n",
              "  </thead>\n",
              "  <tbody>\n",
              "    <tr>\n",
              "      <th>0</th>\n",
              "      <td>شاليه بمسبح وغرفة نوم</td>\n",
              "      <td>الرياض - حي المناخ</td>\n",
              "      <td>148</td>\n",
              "      <td>مخصص لل عوائل و عزاب</td>\n",
              "      <td>10.0</td>\n",
              "      <td>500</td>\n",
              "      <td>apartment</td>\n",
              "      <td>1</td>\n",
              "      <td>0</td>\n",
              "      <td>0</td>\n",
              "      <td>0</td>\n",
              "    </tr>\n",
              "    <tr>\n",
              "      <th>1</th>\n",
              "      <td>شاليه بصالة مطلة على المسبح</td>\n",
              "      <td>الرياض - حي المناخ</td>\n",
              "      <td>148</td>\n",
              "      <td>مخصص لل عوائل و عزاب</td>\n",
              "      <td>10.0</td>\n",
              "      <td>500</td>\n",
              "      <td>chalet</td>\n",
              "      <td>1</td>\n",
              "      <td>0</td>\n",
              "      <td>0</td>\n",
              "      <td>0</td>\n",
              "    </tr>\n",
              "    <tr>\n",
              "      <th>2</th>\n",
              "      <td>شاليه بجلسة خارجية على المسبح</td>\n",
              "      <td>الرياض - حي المناخ</td>\n",
              "      <td>148</td>\n",
              "      <td>مخصص لل عوائل و عزاب</td>\n",
              "      <td>10.0</td>\n",
              "      <td>500</td>\n",
              "      <td>chalet</td>\n",
              "      <td>1</td>\n",
              "      <td>0</td>\n",
              "      <td>1</td>\n",
              "      <td>0</td>\n",
              "    </tr>\n",
              "    <tr>\n",
              "      <th>3</th>\n",
              "      <td>شاليه بمسطح اخضر وجلسة خارجية</td>\n",
              "      <td>الرياض - حي المناخ</td>\n",
              "      <td>148</td>\n",
              "      <td>مخصص لل عوائل و عزاب</td>\n",
              "      <td>10.0</td>\n",
              "      <td>500</td>\n",
              "      <td>chalet</td>\n",
              "      <td>0</td>\n",
              "      <td>1</td>\n",
              "      <td>1</td>\n",
              "      <td>0</td>\n",
              "    </tr>\n",
              "    <tr>\n",
              "      <th>4</th>\n",
              "      <td>شاليه بجلسة تطل على مسبح داخلي</td>\n",
              "      <td>الرياض - حي الرمال</td>\n",
              "      <td>450</td>\n",
              "      <td>مخصص لل عوائل و عزاب</td>\n",
              "      <td>9.5</td>\n",
              "      <td>450</td>\n",
              "      <td>chalet</td>\n",
              "      <td>1</td>\n",
              "      <td>0</td>\n",
              "      <td>1</td>\n",
              "      <td>0</td>\n",
              "    </tr>\n",
              "    <tr>\n",
              "      <th>...</th>\n",
              "      <td>...</td>\n",
              "      <td>...</td>\n",
              "      <td>...</td>\n",
              "      <td>...</td>\n",
              "      <td>...</td>\n",
              "      <td>...</td>\n",
              "      <td>...</td>\n",
              "      <td>...</td>\n",
              "      <td>...</td>\n",
              "      <td>...</td>\n",
              "      <td>...</td>\n",
              "    </tr>\n",
              "    <tr>\n",
              "      <th>2414</th>\n",
              "      <td>شقة بصالة وغرفتين نوم</td>\n",
              "      <td>الرياض - حي النهضة</td>\n",
              "      <td>200</td>\n",
              "      <td>مخصص لل عوائل و عزاب</td>\n",
              "      <td>0.0</td>\n",
              "      <td>249</td>\n",
              "      <td>apartment</td>\n",
              "      <td>0</td>\n",
              "      <td>0</td>\n",
              "      <td>0</td>\n",
              "      <td>0</td>\n",
              "    </tr>\n",
              "    <tr>\n",
              "      <th>2415</th>\n",
              "      <td>شقة بغرفة جلوس وغرفة نوم</td>\n",
              "      <td>الرياض - حي غرناطة</td>\n",
              "      <td>175</td>\n",
              "      <td>مخصص لل عوائل فقط</td>\n",
              "      <td>0.0</td>\n",
              "      <td>400</td>\n",
              "      <td>apartment</td>\n",
              "      <td>0</td>\n",
              "      <td>0</td>\n",
              "      <td>0</td>\n",
              "      <td>0</td>\n",
              "    </tr>\n",
              "    <tr>\n",
              "      <th>2416</th>\n",
              "      <td>مخيم بجلسة خارجية وألعاب أطفال</td>\n",
              "      <td>الرياض - حي بنبان</td>\n",
              "      <td>1000</td>\n",
              "      <td>مخصص لل عوائل فقط</td>\n",
              "      <td>4.8</td>\n",
              "      <td>800</td>\n",
              "      <td>camp</td>\n",
              "      <td>0</td>\n",
              "      <td>0</td>\n",
              "      <td>1</td>\n",
              "      <td>1</td>\n",
              "    </tr>\n",
              "    <tr>\n",
              "      <th>2417</th>\n",
              "      <td>مخيم بملعب طائره وبروجكتر (قسم رجال)</td>\n",
              "      <td>الرياض - حي الثمامة</td>\n",
              "      <td>2000</td>\n",
              "      <td>مخصص لل عوائل و عزاب</td>\n",
              "      <td>0.0</td>\n",
              "      <td>1200</td>\n",
              "      <td>camp</td>\n",
              "      <td>0</td>\n",
              "      <td>0</td>\n",
              "      <td>0</td>\n",
              "      <td>1</td>\n",
              "    </tr>\n",
              "    <tr>\n",
              "      <th>2418</th>\n",
              "      <td>شقة بغرفتين نوم وغرفة جلوس</td>\n",
              "      <td>الرياض - حي الملقا</td>\n",
              "      <td>200</td>\n",
              "      <td>مخصص لل عوائل و عزاب</td>\n",
              "      <td>7.1</td>\n",
              "      <td>390</td>\n",
              "      <td>apartment</td>\n",
              "      <td>0</td>\n",
              "      <td>0</td>\n",
              "      <td>0</td>\n",
              "      <td>0</td>\n",
              "    </tr>\n",
              "  </tbody>\n",
              "</table>\n",
              "<p>2402 rows × 11 columns</p>\n",
              "</div>"
            ],
            "text/plain": [
              "                                  property                  city  area  \\\n",
              "0                   شاليه بمسبح وغرفة نوم     الرياض - حي المناخ   148   \n",
              "1             شاليه بصالة مطلة على المسبح     الرياض - حي المناخ   148   \n",
              "2           شاليه بجلسة خارجية على المسبح     الرياض - حي المناخ   148   \n",
              "3           شاليه بمسطح اخضر وجلسة خارجية     الرياض - حي المناخ   148   \n",
              "4          شاليه بجلسة تطل على مسبح داخلي     الرياض - حي الرمال   450   \n",
              "...                                    ...                   ...   ...   \n",
              "2414                 شقة بصالة وغرفتين نوم    الرياض - حي النهضة   200   \n",
              "2415              شقة بغرفة جلوس وغرفة نوم    الرياض - حي غرناطة   175   \n",
              "2416       مخيم بجلسة خارجية وألعاب أطفال      الرياض - حي بنبان  1000   \n",
              "2417  مخيم بملعب طائره وبروجكتر (قسم رجال)   الرياض - حي الثمامة  2000   \n",
              "2418           شقة بغرفتين نوم وغرفة جلوس     الرياض - حي الملقا   200   \n",
              "\n",
              "                   category  rating  price property_type  pool  garden  \\\n",
              "0      مخصص لل عوائل و عزاب    10.0    500     apartment     1       0   \n",
              "1      مخصص لل عوائل و عزاب    10.0    500        chalet     1       0   \n",
              "2      مخصص لل عوائل و عزاب    10.0    500        chalet     1       0   \n",
              "3      مخصص لل عوائل و عزاب    10.0    500        chalet     0       1   \n",
              "4      مخصص لل عوائل و عزاب     9.5    450        chalet     1       0   \n",
              "...                     ...     ...    ...           ...   ...     ...   \n",
              "2414   مخصص لل عوائل و عزاب     0.0    249     apartment     0       0   \n",
              "2415      مخصص لل عوائل فقط     0.0    400     apartment     0       0   \n",
              "2416      مخصص لل عوائل فقط     4.8    800          camp     0       0   \n",
              "2417   مخصص لل عوائل و عزاب     0.0   1200          camp     0       0   \n",
              "2418   مخصص لل عوائل و عزاب     7.1    390     apartment     0       0   \n",
              "\n",
              "      outdoor  play_area  \n",
              "0           0          0  \n",
              "1           0          0  \n",
              "2           1          0  \n",
              "3           1          0  \n",
              "4           1          0  \n",
              "...       ...        ...  \n",
              "2414        0          0  \n",
              "2415        0          0  \n",
              "2416        1          1  \n",
              "2417        0          1  \n",
              "2418        0          0  \n",
              "\n",
              "[2402 rows x 11 columns]"
            ]
          },
          "execution_count": 119,
          "metadata": {},
          "output_type": "execute_result"
        }
      ],
      "source": [
        "df_clean"
      ]
    },
    {
      "cell_type": "code",
      "execution_count": null,
      "id": "f5b78142",
      "metadata": {
        "scrolled": true,
        "id": "f5b78142",
        "outputId": "051f95ed-3384-4a00-9d7d-2f95d8683029"
      },
      "outputs": [
        {
          "data": {
            "text/plain": [
              " مخصص لل عوائل و عزاب    1626\n",
              " مخصص لل عوائل فقط        770\n",
              " مخصص لل عزاب فقط           6\n",
              "Name: category, dtype: int64"
            ]
          },
          "execution_count": 120,
          "metadata": {},
          "output_type": "execute_result"
        }
      ],
      "source": [
        "df_clean.category.value_counts()"
      ]
    },
    {
      "cell_type": "code",
      "execution_count": null,
      "id": "87a77d23",
      "metadata": {
        "scrolled": false,
        "id": "87a77d23",
        "outputId": "23f966ee-cacf-4a59-c77e-e925a1a98f35"
      },
      "outputs": [
        {
          "data": {
            "text/html": [
              "<div>\n",
              "<style scoped>\n",
              "    .dataframe tbody tr th:only-of-type {\n",
              "        vertical-align: middle;\n",
              "    }\n",
              "\n",
              "    .dataframe tbody tr th {\n",
              "        vertical-align: top;\n",
              "    }\n",
              "\n",
              "    .dataframe thead th {\n",
              "        text-align: right;\n",
              "    }\n",
              "</style>\n",
              "<table border=\"1\" class=\"dataframe\">\n",
              "  <thead>\n",
              "    <tr style=\"text-align: right;\">\n",
              "      <th></th>\n",
              "      <th>property</th>\n",
              "      <th>city</th>\n",
              "      <th>area</th>\n",
              "      <th>category</th>\n",
              "      <th>rating</th>\n",
              "      <th>price</th>\n",
              "      <th>property_type</th>\n",
              "      <th>pool</th>\n",
              "      <th>garden</th>\n",
              "      <th>outdoor</th>\n",
              "      <th>play_area</th>\n",
              "      <th>family</th>\n",
              "      <th>single</th>\n",
              "      <th>family_and_single</th>\n",
              "    </tr>\n",
              "  </thead>\n",
              "  <tbody>\n",
              "    <tr>\n",
              "      <th>0</th>\n",
              "      <td>شاليه بمسبح وغرفة نوم</td>\n",
              "      <td>الرياض - حي المناخ</td>\n",
              "      <td>148</td>\n",
              "      <td>مخصص لل عوائل و عزاب</td>\n",
              "      <td>10.0</td>\n",
              "      <td>500</td>\n",
              "      <td>apartment</td>\n",
              "      <td>1</td>\n",
              "      <td>0</td>\n",
              "      <td>0</td>\n",
              "      <td>0</td>\n",
              "      <td>0</td>\n",
              "      <td>0</td>\n",
              "      <td>0</td>\n",
              "    </tr>\n",
              "    <tr>\n",
              "      <th>1</th>\n",
              "      <td>شاليه بصالة مطلة على المسبح</td>\n",
              "      <td>الرياض - حي المناخ</td>\n",
              "      <td>148</td>\n",
              "      <td>مخصص لل عوائل و عزاب</td>\n",
              "      <td>10.0</td>\n",
              "      <td>500</td>\n",
              "      <td>chalet</td>\n",
              "      <td>1</td>\n",
              "      <td>0</td>\n",
              "      <td>0</td>\n",
              "      <td>0</td>\n",
              "      <td>0</td>\n",
              "      <td>0</td>\n",
              "      <td>0</td>\n",
              "    </tr>\n",
              "    <tr>\n",
              "      <th>2</th>\n",
              "      <td>شاليه بجلسة خارجية على المسبح</td>\n",
              "      <td>الرياض - حي المناخ</td>\n",
              "      <td>148</td>\n",
              "      <td>مخصص لل عوائل و عزاب</td>\n",
              "      <td>10.0</td>\n",
              "      <td>500</td>\n",
              "      <td>chalet</td>\n",
              "      <td>1</td>\n",
              "      <td>0</td>\n",
              "      <td>1</td>\n",
              "      <td>0</td>\n",
              "      <td>0</td>\n",
              "      <td>0</td>\n",
              "      <td>0</td>\n",
              "    </tr>\n",
              "    <tr>\n",
              "      <th>3</th>\n",
              "      <td>شاليه بمسطح اخضر وجلسة خارجية</td>\n",
              "      <td>الرياض - حي المناخ</td>\n",
              "      <td>148</td>\n",
              "      <td>مخصص لل عوائل و عزاب</td>\n",
              "      <td>10.0</td>\n",
              "      <td>500</td>\n",
              "      <td>chalet</td>\n",
              "      <td>0</td>\n",
              "      <td>1</td>\n",
              "      <td>1</td>\n",
              "      <td>0</td>\n",
              "      <td>0</td>\n",
              "      <td>0</td>\n",
              "      <td>0</td>\n",
              "    </tr>\n",
              "    <tr>\n",
              "      <th>4</th>\n",
              "      <td>شاليه بجلسة تطل على مسبح داخلي</td>\n",
              "      <td>الرياض - حي الرمال</td>\n",
              "      <td>450</td>\n",
              "      <td>مخصص لل عوائل و عزاب</td>\n",
              "      <td>9.5</td>\n",
              "      <td>450</td>\n",
              "      <td>chalet</td>\n",
              "      <td>1</td>\n",
              "      <td>0</td>\n",
              "      <td>1</td>\n",
              "      <td>0</td>\n",
              "      <td>0</td>\n",
              "      <td>0</td>\n",
              "      <td>0</td>\n",
              "    </tr>\n",
              "    <tr>\n",
              "      <th>...</th>\n",
              "      <td>...</td>\n",
              "      <td>...</td>\n",
              "      <td>...</td>\n",
              "      <td>...</td>\n",
              "      <td>...</td>\n",
              "      <td>...</td>\n",
              "      <td>...</td>\n",
              "      <td>...</td>\n",
              "      <td>...</td>\n",
              "      <td>...</td>\n",
              "      <td>...</td>\n",
              "      <td>...</td>\n",
              "      <td>...</td>\n",
              "      <td>...</td>\n",
              "    </tr>\n",
              "    <tr>\n",
              "      <th>2414</th>\n",
              "      <td>شقة بصالة وغرفتين نوم</td>\n",
              "      <td>الرياض - حي النهضة</td>\n",
              "      <td>200</td>\n",
              "      <td>مخصص لل عوائل و عزاب</td>\n",
              "      <td>0.0</td>\n",
              "      <td>249</td>\n",
              "      <td>apartment</td>\n",
              "      <td>0</td>\n",
              "      <td>0</td>\n",
              "      <td>0</td>\n",
              "      <td>0</td>\n",
              "      <td>0</td>\n",
              "      <td>0</td>\n",
              "      <td>0</td>\n",
              "    </tr>\n",
              "    <tr>\n",
              "      <th>2415</th>\n",
              "      <td>شقة بغرفة جلوس وغرفة نوم</td>\n",
              "      <td>الرياض - حي غرناطة</td>\n",
              "      <td>175</td>\n",
              "      <td>مخصص لل عوائل فقط</td>\n",
              "      <td>0.0</td>\n",
              "      <td>400</td>\n",
              "      <td>apartment</td>\n",
              "      <td>0</td>\n",
              "      <td>0</td>\n",
              "      <td>0</td>\n",
              "      <td>0</td>\n",
              "      <td>0</td>\n",
              "      <td>0</td>\n",
              "      <td>0</td>\n",
              "    </tr>\n",
              "    <tr>\n",
              "      <th>2416</th>\n",
              "      <td>مخيم بجلسة خارجية وألعاب أطفال</td>\n",
              "      <td>الرياض - حي بنبان</td>\n",
              "      <td>1000</td>\n",
              "      <td>مخصص لل عوائل فقط</td>\n",
              "      <td>4.8</td>\n",
              "      <td>800</td>\n",
              "      <td>camp</td>\n",
              "      <td>0</td>\n",
              "      <td>0</td>\n",
              "      <td>1</td>\n",
              "      <td>1</td>\n",
              "      <td>0</td>\n",
              "      <td>0</td>\n",
              "      <td>0</td>\n",
              "    </tr>\n",
              "    <tr>\n",
              "      <th>2417</th>\n",
              "      <td>مخيم بملعب طائره وبروجكتر (قسم رجال)</td>\n",
              "      <td>الرياض - حي الثمامة</td>\n",
              "      <td>2000</td>\n",
              "      <td>مخصص لل عوائل و عزاب</td>\n",
              "      <td>0.0</td>\n",
              "      <td>1200</td>\n",
              "      <td>camp</td>\n",
              "      <td>0</td>\n",
              "      <td>0</td>\n",
              "      <td>0</td>\n",
              "      <td>1</td>\n",
              "      <td>0</td>\n",
              "      <td>0</td>\n",
              "      <td>0</td>\n",
              "    </tr>\n",
              "    <tr>\n",
              "      <th>2418</th>\n",
              "      <td>شقة بغرفتين نوم وغرفة جلوس</td>\n",
              "      <td>الرياض - حي الملقا</td>\n",
              "      <td>200</td>\n",
              "      <td>مخصص لل عوائل و عزاب</td>\n",
              "      <td>7.1</td>\n",
              "      <td>390</td>\n",
              "      <td>apartment</td>\n",
              "      <td>0</td>\n",
              "      <td>0</td>\n",
              "      <td>0</td>\n",
              "      <td>0</td>\n",
              "      <td>0</td>\n",
              "      <td>0</td>\n",
              "      <td>0</td>\n",
              "    </tr>\n",
              "  </tbody>\n",
              "</table>\n",
              "<p>2402 rows × 14 columns</p>\n",
              "</div>"
            ],
            "text/plain": [
              "                                  property                  city  area  \\\n",
              "0                   شاليه بمسبح وغرفة نوم     الرياض - حي المناخ   148   \n",
              "1             شاليه بصالة مطلة على المسبح     الرياض - حي المناخ   148   \n",
              "2           شاليه بجلسة خارجية على المسبح     الرياض - حي المناخ   148   \n",
              "3           شاليه بمسطح اخضر وجلسة خارجية     الرياض - حي المناخ   148   \n",
              "4          شاليه بجلسة تطل على مسبح داخلي     الرياض - حي الرمال   450   \n",
              "...                                    ...                   ...   ...   \n",
              "2414                 شقة بصالة وغرفتين نوم    الرياض - حي النهضة   200   \n",
              "2415              شقة بغرفة جلوس وغرفة نوم    الرياض - حي غرناطة   175   \n",
              "2416       مخيم بجلسة خارجية وألعاب أطفال      الرياض - حي بنبان  1000   \n",
              "2417  مخيم بملعب طائره وبروجكتر (قسم رجال)   الرياض - حي الثمامة  2000   \n",
              "2418           شقة بغرفتين نوم وغرفة جلوس     الرياض - حي الملقا   200   \n",
              "\n",
              "                   category  rating  price property_type  pool  garden  \\\n",
              "0      مخصص لل عوائل و عزاب    10.0    500     apartment     1       0   \n",
              "1      مخصص لل عوائل و عزاب    10.0    500        chalet     1       0   \n",
              "2      مخصص لل عوائل و عزاب    10.0    500        chalet     1       0   \n",
              "3      مخصص لل عوائل و عزاب    10.0    500        chalet     0       1   \n",
              "4      مخصص لل عوائل و عزاب     9.5    450        chalet     1       0   \n",
              "...                     ...     ...    ...           ...   ...     ...   \n",
              "2414   مخصص لل عوائل و عزاب     0.0    249     apartment     0       0   \n",
              "2415      مخصص لل عوائل فقط     0.0    400     apartment     0       0   \n",
              "2416      مخصص لل عوائل فقط     4.8    800          camp     0       0   \n",
              "2417   مخصص لل عوائل و عزاب     0.0   1200          camp     0       0   \n",
              "2418   مخصص لل عوائل و عزاب     7.1    390     apartment     0       0   \n",
              "\n",
              "      outdoor  play_area  family  single  family_and_single  \n",
              "0           0          0       0       0                  0  \n",
              "1           0          0       0       0                  0  \n",
              "2           1          0       0       0                  0  \n",
              "3           1          0       0       0                  0  \n",
              "4           1          0       0       0                  0  \n",
              "...       ...        ...     ...     ...                ...  \n",
              "2414        0          0       0       0                  0  \n",
              "2415        0          0       0       0                  0  \n",
              "2416        1          1       0       0                  0  \n",
              "2417        0          1       0       0                  0  \n",
              "2418        0          0       0       0                  0  \n",
              "\n",
              "[2402 rows x 14 columns]"
            ]
          },
          "execution_count": 121,
          "metadata": {},
          "output_type": "execute_result"
        }
      ],
      "source": [
        "df_clean[['family', 'single','family_and_single']]= 0\n",
        "df_clean"
      ]
    },
    {
      "cell_type": "code",
      "execution_count": null,
      "id": "887b0fba",
      "metadata": {
        "scrolled": true,
        "id": "887b0fba"
      },
      "outputs": [],
      "source": [
        "df_clean.loc[df_clean[df_clean.category == ' مخصص لل عوائل و عزاب'].index ,'family_and_single']=1\n",
        "df_clean.loc[df_clean[df_clean.category == ' مخصص لل عوائل فقط'].index ,'family']=1\n",
        "df_clean.loc[df_clean[df_clean.category == ' مخصص لل عزاب فقط'].index ,'single']=1"
      ]
    },
    {
      "cell_type": "code",
      "execution_count": null,
      "id": "bd2ebc81",
      "metadata": {
        "id": "bd2ebc81"
      },
      "outputs": [],
      "source": [
        "df_clean.drop(columns =['property','category','city', 'family_and_single'],inplace= True)"
      ]
    },
    {
      "cell_type": "code",
      "execution_count": null,
      "id": "fe8512f2",
      "metadata": {
        "id": "fe8512f2",
        "outputId": "654baadc-6df3-427e-a3ca-3b06f20b5c98"
      },
      "outputs": [
        {
          "data": {
            "text/plain": [
              "Index(['area', 'rating', 'price', 'pool', 'garden', 'outdoor', 'play_area',\n",
              "       'family', 'single', 'property_type_apartment', 'property_type_camp',\n",
              "       'property_type_chalet', 'property_type_farm', 'property_type_resort'],\n",
              "      dtype='object')"
            ]
          },
          "execution_count": 124,
          "metadata": {},
          "output_type": "execute_result"
        }
      ],
      "source": [
        "df_clean = pd.get_dummies(df_clean, columns=['property_type'],drop_first = False)\n",
        "df_clean.columns"
      ]
    },
    {
      "cell_type": "code",
      "execution_count": null,
      "id": "91bf3fca",
      "metadata": {
        "id": "91bf3fca",
        "outputId": "723cd3f4-91d4-47a8-def4-a2f5f0087f7c"
      },
      "outputs": [
        {
          "data": {
            "text/html": [
              "<div>\n",
              "<style scoped>\n",
              "    .dataframe tbody tr th:only-of-type {\n",
              "        vertical-align: middle;\n",
              "    }\n",
              "\n",
              "    .dataframe tbody tr th {\n",
              "        vertical-align: top;\n",
              "    }\n",
              "\n",
              "    .dataframe thead th {\n",
              "        text-align: right;\n",
              "    }\n",
              "</style>\n",
              "<table border=\"1\" class=\"dataframe\">\n",
              "  <thead>\n",
              "    <tr style=\"text-align: right;\">\n",
              "      <th></th>\n",
              "      <th>area</th>\n",
              "      <th>rating</th>\n",
              "      <th>price</th>\n",
              "      <th>pool</th>\n",
              "      <th>garden</th>\n",
              "      <th>outdoor</th>\n",
              "      <th>play_area</th>\n",
              "      <th>family</th>\n",
              "      <th>single</th>\n",
              "      <th>property_type_apartment</th>\n",
              "      <th>property_type_camp</th>\n",
              "      <th>property_type_chalet</th>\n",
              "      <th>property_type_farm</th>\n",
              "      <th>property_type_resort</th>\n",
              "    </tr>\n",
              "  </thead>\n",
              "  <tbody>\n",
              "    <tr>\n",
              "      <th>0</th>\n",
              "      <td>148</td>\n",
              "      <td>10.0</td>\n",
              "      <td>500</td>\n",
              "      <td>1</td>\n",
              "      <td>0</td>\n",
              "      <td>0</td>\n",
              "      <td>0</td>\n",
              "      <td>0</td>\n",
              "      <td>0</td>\n",
              "      <td>1</td>\n",
              "      <td>0</td>\n",
              "      <td>0</td>\n",
              "      <td>0</td>\n",
              "      <td>0</td>\n",
              "    </tr>\n",
              "    <tr>\n",
              "      <th>1</th>\n",
              "      <td>148</td>\n",
              "      <td>10.0</td>\n",
              "      <td>500</td>\n",
              "      <td>1</td>\n",
              "      <td>0</td>\n",
              "      <td>0</td>\n",
              "      <td>0</td>\n",
              "      <td>0</td>\n",
              "      <td>0</td>\n",
              "      <td>0</td>\n",
              "      <td>0</td>\n",
              "      <td>1</td>\n",
              "      <td>0</td>\n",
              "      <td>0</td>\n",
              "    </tr>\n",
              "    <tr>\n",
              "      <th>2</th>\n",
              "      <td>148</td>\n",
              "      <td>10.0</td>\n",
              "      <td>500</td>\n",
              "      <td>1</td>\n",
              "      <td>0</td>\n",
              "      <td>1</td>\n",
              "      <td>0</td>\n",
              "      <td>0</td>\n",
              "      <td>0</td>\n",
              "      <td>0</td>\n",
              "      <td>0</td>\n",
              "      <td>1</td>\n",
              "      <td>0</td>\n",
              "      <td>0</td>\n",
              "    </tr>\n",
              "    <tr>\n",
              "      <th>3</th>\n",
              "      <td>148</td>\n",
              "      <td>10.0</td>\n",
              "      <td>500</td>\n",
              "      <td>0</td>\n",
              "      <td>1</td>\n",
              "      <td>1</td>\n",
              "      <td>0</td>\n",
              "      <td>0</td>\n",
              "      <td>0</td>\n",
              "      <td>0</td>\n",
              "      <td>0</td>\n",
              "      <td>1</td>\n",
              "      <td>0</td>\n",
              "      <td>0</td>\n",
              "    </tr>\n",
              "    <tr>\n",
              "      <th>4</th>\n",
              "      <td>450</td>\n",
              "      <td>9.5</td>\n",
              "      <td>450</td>\n",
              "      <td>1</td>\n",
              "      <td>0</td>\n",
              "      <td>1</td>\n",
              "      <td>0</td>\n",
              "      <td>0</td>\n",
              "      <td>0</td>\n",
              "      <td>0</td>\n",
              "      <td>0</td>\n",
              "      <td>1</td>\n",
              "      <td>0</td>\n",
              "      <td>0</td>\n",
              "    </tr>\n",
              "    <tr>\n",
              "      <th>...</th>\n",
              "      <td>...</td>\n",
              "      <td>...</td>\n",
              "      <td>...</td>\n",
              "      <td>...</td>\n",
              "      <td>...</td>\n",
              "      <td>...</td>\n",
              "      <td>...</td>\n",
              "      <td>...</td>\n",
              "      <td>...</td>\n",
              "      <td>...</td>\n",
              "      <td>...</td>\n",
              "      <td>...</td>\n",
              "      <td>...</td>\n",
              "      <td>...</td>\n",
              "    </tr>\n",
              "    <tr>\n",
              "      <th>2414</th>\n",
              "      <td>200</td>\n",
              "      <td>0.0</td>\n",
              "      <td>249</td>\n",
              "      <td>0</td>\n",
              "      <td>0</td>\n",
              "      <td>0</td>\n",
              "      <td>0</td>\n",
              "      <td>0</td>\n",
              "      <td>0</td>\n",
              "      <td>1</td>\n",
              "      <td>0</td>\n",
              "      <td>0</td>\n",
              "      <td>0</td>\n",
              "      <td>0</td>\n",
              "    </tr>\n",
              "    <tr>\n",
              "      <th>2415</th>\n",
              "      <td>175</td>\n",
              "      <td>0.0</td>\n",
              "      <td>400</td>\n",
              "      <td>0</td>\n",
              "      <td>0</td>\n",
              "      <td>0</td>\n",
              "      <td>0</td>\n",
              "      <td>1</td>\n",
              "      <td>0</td>\n",
              "      <td>1</td>\n",
              "      <td>0</td>\n",
              "      <td>0</td>\n",
              "      <td>0</td>\n",
              "      <td>0</td>\n",
              "    </tr>\n",
              "    <tr>\n",
              "      <th>2416</th>\n",
              "      <td>1000</td>\n",
              "      <td>4.8</td>\n",
              "      <td>800</td>\n",
              "      <td>0</td>\n",
              "      <td>0</td>\n",
              "      <td>1</td>\n",
              "      <td>1</td>\n",
              "      <td>1</td>\n",
              "      <td>0</td>\n",
              "      <td>0</td>\n",
              "      <td>1</td>\n",
              "      <td>0</td>\n",
              "      <td>0</td>\n",
              "      <td>0</td>\n",
              "    </tr>\n",
              "    <tr>\n",
              "      <th>2417</th>\n",
              "      <td>2000</td>\n",
              "      <td>0.0</td>\n",
              "      <td>1200</td>\n",
              "      <td>0</td>\n",
              "      <td>0</td>\n",
              "      <td>0</td>\n",
              "      <td>1</td>\n",
              "      <td>0</td>\n",
              "      <td>0</td>\n",
              "      <td>0</td>\n",
              "      <td>1</td>\n",
              "      <td>0</td>\n",
              "      <td>0</td>\n",
              "      <td>0</td>\n",
              "    </tr>\n",
              "    <tr>\n",
              "      <th>2418</th>\n",
              "      <td>200</td>\n",
              "      <td>7.1</td>\n",
              "      <td>390</td>\n",
              "      <td>0</td>\n",
              "      <td>0</td>\n",
              "      <td>0</td>\n",
              "      <td>0</td>\n",
              "      <td>0</td>\n",
              "      <td>0</td>\n",
              "      <td>1</td>\n",
              "      <td>0</td>\n",
              "      <td>0</td>\n",
              "      <td>0</td>\n",
              "      <td>0</td>\n",
              "    </tr>\n",
              "  </tbody>\n",
              "</table>\n",
              "<p>2402 rows × 14 columns</p>\n",
              "</div>"
            ],
            "text/plain": [
              "      area  rating  price  pool  garden  outdoor  play_area  family  single  \\\n",
              "0      148    10.0    500     1       0        0          0       0       0   \n",
              "1      148    10.0    500     1       0        0          0       0       0   \n",
              "2      148    10.0    500     1       0        1          0       0       0   \n",
              "3      148    10.0    500     0       1        1          0       0       0   \n",
              "4      450     9.5    450     1       0        1          0       0       0   \n",
              "...    ...     ...    ...   ...     ...      ...        ...     ...     ...   \n",
              "2414   200     0.0    249     0       0        0          0       0       0   \n",
              "2415   175     0.0    400     0       0        0          0       1       0   \n",
              "2416  1000     4.8    800     0       0        1          1       1       0   \n",
              "2417  2000     0.0   1200     0       0        0          1       0       0   \n",
              "2418   200     7.1    390     0       0        0          0       0       0   \n",
              "\n",
              "      property_type_apartment  property_type_camp  property_type_chalet  \\\n",
              "0                           1                   0                     0   \n",
              "1                           0                   0                     1   \n",
              "2                           0                   0                     1   \n",
              "3                           0                   0                     1   \n",
              "4                           0                   0                     1   \n",
              "...                       ...                 ...                   ...   \n",
              "2414                        1                   0                     0   \n",
              "2415                        1                   0                     0   \n",
              "2416                        0                   1                     0   \n",
              "2417                        0                   1                     0   \n",
              "2418                        1                   0                     0   \n",
              "\n",
              "      property_type_farm  property_type_resort  \n",
              "0                      0                     0  \n",
              "1                      0                     0  \n",
              "2                      0                     0  \n",
              "3                      0                     0  \n",
              "4                      0                     0  \n",
              "...                  ...                   ...  \n",
              "2414                   0                     0  \n",
              "2415                   0                     0  \n",
              "2416                   0                     0  \n",
              "2417                   0                     0  \n",
              "2418                   0                     0  \n",
              "\n",
              "[2402 rows x 14 columns]"
            ]
          },
          "execution_count": 125,
          "metadata": {},
          "output_type": "execute_result"
        }
      ],
      "source": [
        "df_clean"
      ]
    },
    {
      "cell_type": "code",
      "execution_count": null,
      "id": "b9bd49bf",
      "metadata": {
        "id": "b9bd49bf"
      },
      "outputs": [],
      "source": [
        "df_clean.to_csv('clean_data.csv', index = False)"
      ]
    },
    {
      "cell_type": "code",
      "execution_count": null,
      "id": "ce6c2129",
      "metadata": {
        "id": "ce6c2129",
        "outputId": "563c3208-9fa9-4835-a5a5-cd84f4e99704"
      },
      "outputs": [
        {
          "data": {
            "text/html": [
              "<div>\n",
              "<style scoped>\n",
              "    .dataframe tbody tr th:only-of-type {\n",
              "        vertical-align: middle;\n",
              "    }\n",
              "\n",
              "    .dataframe tbody tr th {\n",
              "        vertical-align: top;\n",
              "    }\n",
              "\n",
              "    .dataframe thead th {\n",
              "        text-align: right;\n",
              "    }\n",
              "</style>\n",
              "<table border=\"1\" class=\"dataframe\">\n",
              "  <thead>\n",
              "    <tr style=\"text-align: right;\">\n",
              "      <th></th>\n",
              "      <th>area</th>\n",
              "      <th>rating</th>\n",
              "      <th>price</th>\n",
              "      <th>pool</th>\n",
              "      <th>garden</th>\n",
              "      <th>outdoor</th>\n",
              "      <th>play_area</th>\n",
              "      <th>family</th>\n",
              "      <th>single</th>\n",
              "      <th>property_type_apartment</th>\n",
              "      <th>property_type_camp</th>\n",
              "      <th>property_type_chalet</th>\n",
              "      <th>property_type_farm</th>\n",
              "      <th>property_type_resort</th>\n",
              "    </tr>\n",
              "  </thead>\n",
              "  <tbody>\n",
              "    <tr>\n",
              "      <th>0</th>\n",
              "      <td>148</td>\n",
              "      <td>10.0</td>\n",
              "      <td>500</td>\n",
              "      <td>1</td>\n",
              "      <td>0</td>\n",
              "      <td>0</td>\n",
              "      <td>0</td>\n",
              "      <td>0</td>\n",
              "      <td>0</td>\n",
              "      <td>1</td>\n",
              "      <td>0</td>\n",
              "      <td>0</td>\n",
              "      <td>0</td>\n",
              "      <td>0</td>\n",
              "    </tr>\n",
              "    <tr>\n",
              "      <th>1</th>\n",
              "      <td>148</td>\n",
              "      <td>10.0</td>\n",
              "      <td>500</td>\n",
              "      <td>1</td>\n",
              "      <td>0</td>\n",
              "      <td>0</td>\n",
              "      <td>0</td>\n",
              "      <td>0</td>\n",
              "      <td>0</td>\n",
              "      <td>0</td>\n",
              "      <td>0</td>\n",
              "      <td>1</td>\n",
              "      <td>0</td>\n",
              "      <td>0</td>\n",
              "    </tr>\n",
              "    <tr>\n",
              "      <th>2</th>\n",
              "      <td>148</td>\n",
              "      <td>10.0</td>\n",
              "      <td>500</td>\n",
              "      <td>1</td>\n",
              "      <td>0</td>\n",
              "      <td>1</td>\n",
              "      <td>0</td>\n",
              "      <td>0</td>\n",
              "      <td>0</td>\n",
              "      <td>0</td>\n",
              "      <td>0</td>\n",
              "      <td>1</td>\n",
              "      <td>0</td>\n",
              "      <td>0</td>\n",
              "    </tr>\n",
              "    <tr>\n",
              "      <th>3</th>\n",
              "      <td>148</td>\n",
              "      <td>10.0</td>\n",
              "      <td>500</td>\n",
              "      <td>0</td>\n",
              "      <td>1</td>\n",
              "      <td>1</td>\n",
              "      <td>0</td>\n",
              "      <td>0</td>\n",
              "      <td>0</td>\n",
              "      <td>0</td>\n",
              "      <td>0</td>\n",
              "      <td>1</td>\n",
              "      <td>0</td>\n",
              "      <td>0</td>\n",
              "    </tr>\n",
              "    <tr>\n",
              "      <th>4</th>\n",
              "      <td>450</td>\n",
              "      <td>9.5</td>\n",
              "      <td>450</td>\n",
              "      <td>1</td>\n",
              "      <td>0</td>\n",
              "      <td>1</td>\n",
              "      <td>0</td>\n",
              "      <td>0</td>\n",
              "      <td>0</td>\n",
              "      <td>0</td>\n",
              "      <td>0</td>\n",
              "      <td>1</td>\n",
              "      <td>0</td>\n",
              "      <td>0</td>\n",
              "    </tr>\n",
              "    <tr>\n",
              "      <th>...</th>\n",
              "      <td>...</td>\n",
              "      <td>...</td>\n",
              "      <td>...</td>\n",
              "      <td>...</td>\n",
              "      <td>...</td>\n",
              "      <td>...</td>\n",
              "      <td>...</td>\n",
              "      <td>...</td>\n",
              "      <td>...</td>\n",
              "      <td>...</td>\n",
              "      <td>...</td>\n",
              "      <td>...</td>\n",
              "      <td>...</td>\n",
              "      <td>...</td>\n",
              "    </tr>\n",
              "    <tr>\n",
              "      <th>2397</th>\n",
              "      <td>200</td>\n",
              "      <td>0.0</td>\n",
              "      <td>249</td>\n",
              "      <td>0</td>\n",
              "      <td>0</td>\n",
              "      <td>0</td>\n",
              "      <td>0</td>\n",
              "      <td>0</td>\n",
              "      <td>0</td>\n",
              "      <td>1</td>\n",
              "      <td>0</td>\n",
              "      <td>0</td>\n",
              "      <td>0</td>\n",
              "      <td>0</td>\n",
              "    </tr>\n",
              "    <tr>\n",
              "      <th>2398</th>\n",
              "      <td>175</td>\n",
              "      <td>0.0</td>\n",
              "      <td>400</td>\n",
              "      <td>0</td>\n",
              "      <td>0</td>\n",
              "      <td>0</td>\n",
              "      <td>0</td>\n",
              "      <td>1</td>\n",
              "      <td>0</td>\n",
              "      <td>1</td>\n",
              "      <td>0</td>\n",
              "      <td>0</td>\n",
              "      <td>0</td>\n",
              "      <td>0</td>\n",
              "    </tr>\n",
              "    <tr>\n",
              "      <th>2399</th>\n",
              "      <td>1000</td>\n",
              "      <td>4.8</td>\n",
              "      <td>800</td>\n",
              "      <td>0</td>\n",
              "      <td>0</td>\n",
              "      <td>1</td>\n",
              "      <td>1</td>\n",
              "      <td>1</td>\n",
              "      <td>0</td>\n",
              "      <td>0</td>\n",
              "      <td>1</td>\n",
              "      <td>0</td>\n",
              "      <td>0</td>\n",
              "      <td>0</td>\n",
              "    </tr>\n",
              "    <tr>\n",
              "      <th>2400</th>\n",
              "      <td>2000</td>\n",
              "      <td>0.0</td>\n",
              "      <td>1200</td>\n",
              "      <td>0</td>\n",
              "      <td>0</td>\n",
              "      <td>0</td>\n",
              "      <td>1</td>\n",
              "      <td>0</td>\n",
              "      <td>0</td>\n",
              "      <td>0</td>\n",
              "      <td>1</td>\n",
              "      <td>0</td>\n",
              "      <td>0</td>\n",
              "      <td>0</td>\n",
              "    </tr>\n",
              "    <tr>\n",
              "      <th>2401</th>\n",
              "      <td>200</td>\n",
              "      <td>7.1</td>\n",
              "      <td>390</td>\n",
              "      <td>0</td>\n",
              "      <td>0</td>\n",
              "      <td>0</td>\n",
              "      <td>0</td>\n",
              "      <td>0</td>\n",
              "      <td>0</td>\n",
              "      <td>1</td>\n",
              "      <td>0</td>\n",
              "      <td>0</td>\n",
              "      <td>0</td>\n",
              "      <td>0</td>\n",
              "    </tr>\n",
              "  </tbody>\n",
              "</table>\n",
              "<p>2402 rows × 14 columns</p>\n",
              "</div>"
            ],
            "text/plain": [
              "      area  rating  price  pool  garden  outdoor  play_area  family  single  \\\n",
              "0      148    10.0    500     1       0        0          0       0       0   \n",
              "1      148    10.0    500     1       0        0          0       0       0   \n",
              "2      148    10.0    500     1       0        1          0       0       0   \n",
              "3      148    10.0    500     0       1        1          0       0       0   \n",
              "4      450     9.5    450     1       0        1          0       0       0   \n",
              "...    ...     ...    ...   ...     ...      ...        ...     ...     ...   \n",
              "2397   200     0.0    249     0       0        0          0       0       0   \n",
              "2398   175     0.0    400     0       0        0          0       1       0   \n",
              "2399  1000     4.8    800     0       0        1          1       1       0   \n",
              "2400  2000     0.0   1200     0       0        0          1       0       0   \n",
              "2401   200     7.1    390     0       0        0          0       0       0   \n",
              "\n",
              "      property_type_apartment  property_type_camp  property_type_chalet  \\\n",
              "0                           1                   0                     0   \n",
              "1                           0                   0                     1   \n",
              "2                           0                   0                     1   \n",
              "3                           0                   0                     1   \n",
              "4                           0                   0                     1   \n",
              "...                       ...                 ...                   ...   \n",
              "2397                        1                   0                     0   \n",
              "2398                        1                   0                     0   \n",
              "2399                        0                   1                     0   \n",
              "2400                        0                   1                     0   \n",
              "2401                        1                   0                     0   \n",
              "\n",
              "      property_type_farm  property_type_resort  \n",
              "0                      0                     0  \n",
              "1                      0                     0  \n",
              "2                      0                     0  \n",
              "3                      0                     0  \n",
              "4                      0                     0  \n",
              "...                  ...                   ...  \n",
              "2397                   0                     0  \n",
              "2398                   0                     0  \n",
              "2399                   0                     0  \n",
              "2400                   0                     0  \n",
              "2401                   0                     0  \n",
              "\n",
              "[2402 rows x 14 columns]"
            ]
          },
          "execution_count": 127,
          "metadata": {},
          "output_type": "execute_result"
        }
      ],
      "source": [
        "df = pd.read_csv('clean_data.csv')\n",
        "df"
      ]
    },
    {
      "cell_type": "markdown",
      "id": "c48549a4",
      "metadata": {
        "id": "c48549a4"
      },
      "source": [
        "## EDA"
      ]
    },
    {
      "cell_type": "code",
      "execution_count": null,
      "id": "a1913fbb",
      "metadata": {
        "id": "a1913fbb",
        "outputId": "a4f6ca7c-ad89-4cf4-ff06-313ccd201aa0"
      },
      "outputs": [
        {
          "data": {
            "text/html": [
              "<div>\n",
              "<style scoped>\n",
              "    .dataframe tbody tr th:only-of-type {\n",
              "        vertical-align: middle;\n",
              "    }\n",
              "\n",
              "    .dataframe tbody tr th {\n",
              "        vertical-align: top;\n",
              "    }\n",
              "\n",
              "    .dataframe thead th {\n",
              "        text-align: right;\n",
              "    }\n",
              "</style>\n",
              "<table border=\"1\" class=\"dataframe\">\n",
              "  <thead>\n",
              "    <tr style=\"text-align: right;\">\n",
              "      <th></th>\n",
              "      <th>area</th>\n",
              "      <th>rating</th>\n",
              "      <th>price</th>\n",
              "      <th>pool</th>\n",
              "      <th>garden</th>\n",
              "      <th>outdoor</th>\n",
              "      <th>play_area</th>\n",
              "      <th>family</th>\n",
              "      <th>single</th>\n",
              "      <th>property_type_apartment</th>\n",
              "      <th>property_type_camp</th>\n",
              "      <th>property_type_chalet</th>\n",
              "      <th>property_type_farm</th>\n",
              "      <th>property_type_resort</th>\n",
              "    </tr>\n",
              "  </thead>\n",
              "  <tbody>\n",
              "    <tr>\n",
              "      <th>0</th>\n",
              "      <td>148</td>\n",
              "      <td>10.0</td>\n",
              "      <td>500</td>\n",
              "      <td>1</td>\n",
              "      <td>0</td>\n",
              "      <td>0</td>\n",
              "      <td>0</td>\n",
              "      <td>0</td>\n",
              "      <td>0</td>\n",
              "      <td>1</td>\n",
              "      <td>0</td>\n",
              "      <td>0</td>\n",
              "      <td>0</td>\n",
              "      <td>0</td>\n",
              "    </tr>\n",
              "    <tr>\n",
              "      <th>1</th>\n",
              "      <td>148</td>\n",
              "      <td>10.0</td>\n",
              "      <td>500</td>\n",
              "      <td>1</td>\n",
              "      <td>0</td>\n",
              "      <td>0</td>\n",
              "      <td>0</td>\n",
              "      <td>0</td>\n",
              "      <td>0</td>\n",
              "      <td>0</td>\n",
              "      <td>0</td>\n",
              "      <td>1</td>\n",
              "      <td>0</td>\n",
              "      <td>0</td>\n",
              "    </tr>\n",
              "    <tr>\n",
              "      <th>2</th>\n",
              "      <td>148</td>\n",
              "      <td>10.0</td>\n",
              "      <td>500</td>\n",
              "      <td>1</td>\n",
              "      <td>0</td>\n",
              "      <td>1</td>\n",
              "      <td>0</td>\n",
              "      <td>0</td>\n",
              "      <td>0</td>\n",
              "      <td>0</td>\n",
              "      <td>0</td>\n",
              "      <td>1</td>\n",
              "      <td>0</td>\n",
              "      <td>0</td>\n",
              "    </tr>\n",
              "    <tr>\n",
              "      <th>3</th>\n",
              "      <td>148</td>\n",
              "      <td>10.0</td>\n",
              "      <td>500</td>\n",
              "      <td>0</td>\n",
              "      <td>1</td>\n",
              "      <td>1</td>\n",
              "      <td>0</td>\n",
              "      <td>0</td>\n",
              "      <td>0</td>\n",
              "      <td>0</td>\n",
              "      <td>0</td>\n",
              "      <td>1</td>\n",
              "      <td>0</td>\n",
              "      <td>0</td>\n",
              "    </tr>\n",
              "    <tr>\n",
              "      <th>4</th>\n",
              "      <td>450</td>\n",
              "      <td>9.5</td>\n",
              "      <td>450</td>\n",
              "      <td>1</td>\n",
              "      <td>0</td>\n",
              "      <td>1</td>\n",
              "      <td>0</td>\n",
              "      <td>0</td>\n",
              "      <td>0</td>\n",
              "      <td>0</td>\n",
              "      <td>0</td>\n",
              "      <td>1</td>\n",
              "      <td>0</td>\n",
              "      <td>0</td>\n",
              "    </tr>\n",
              "    <tr>\n",
              "      <th>...</th>\n",
              "      <td>...</td>\n",
              "      <td>...</td>\n",
              "      <td>...</td>\n",
              "      <td>...</td>\n",
              "      <td>...</td>\n",
              "      <td>...</td>\n",
              "      <td>...</td>\n",
              "      <td>...</td>\n",
              "      <td>...</td>\n",
              "      <td>...</td>\n",
              "      <td>...</td>\n",
              "      <td>...</td>\n",
              "      <td>...</td>\n",
              "      <td>...</td>\n",
              "    </tr>\n",
              "    <tr>\n",
              "      <th>2397</th>\n",
              "      <td>200</td>\n",
              "      <td>0.0</td>\n",
              "      <td>249</td>\n",
              "      <td>0</td>\n",
              "      <td>0</td>\n",
              "      <td>0</td>\n",
              "      <td>0</td>\n",
              "      <td>0</td>\n",
              "      <td>0</td>\n",
              "      <td>1</td>\n",
              "      <td>0</td>\n",
              "      <td>0</td>\n",
              "      <td>0</td>\n",
              "      <td>0</td>\n",
              "    </tr>\n",
              "    <tr>\n",
              "      <th>2398</th>\n",
              "      <td>175</td>\n",
              "      <td>0.0</td>\n",
              "      <td>400</td>\n",
              "      <td>0</td>\n",
              "      <td>0</td>\n",
              "      <td>0</td>\n",
              "      <td>0</td>\n",
              "      <td>1</td>\n",
              "      <td>0</td>\n",
              "      <td>1</td>\n",
              "      <td>0</td>\n",
              "      <td>0</td>\n",
              "      <td>0</td>\n",
              "      <td>0</td>\n",
              "    </tr>\n",
              "    <tr>\n",
              "      <th>2399</th>\n",
              "      <td>1000</td>\n",
              "      <td>4.8</td>\n",
              "      <td>800</td>\n",
              "      <td>0</td>\n",
              "      <td>0</td>\n",
              "      <td>1</td>\n",
              "      <td>1</td>\n",
              "      <td>1</td>\n",
              "      <td>0</td>\n",
              "      <td>0</td>\n",
              "      <td>1</td>\n",
              "      <td>0</td>\n",
              "      <td>0</td>\n",
              "      <td>0</td>\n",
              "    </tr>\n",
              "    <tr>\n",
              "      <th>2400</th>\n",
              "      <td>2000</td>\n",
              "      <td>0.0</td>\n",
              "      <td>1200</td>\n",
              "      <td>0</td>\n",
              "      <td>0</td>\n",
              "      <td>0</td>\n",
              "      <td>1</td>\n",
              "      <td>0</td>\n",
              "      <td>0</td>\n",
              "      <td>0</td>\n",
              "      <td>1</td>\n",
              "      <td>0</td>\n",
              "      <td>0</td>\n",
              "      <td>0</td>\n",
              "    </tr>\n",
              "    <tr>\n",
              "      <th>2401</th>\n",
              "      <td>200</td>\n",
              "      <td>7.1</td>\n",
              "      <td>390</td>\n",
              "      <td>0</td>\n",
              "      <td>0</td>\n",
              "      <td>0</td>\n",
              "      <td>0</td>\n",
              "      <td>0</td>\n",
              "      <td>0</td>\n",
              "      <td>1</td>\n",
              "      <td>0</td>\n",
              "      <td>0</td>\n",
              "      <td>0</td>\n",
              "      <td>0</td>\n",
              "    </tr>\n",
              "  </tbody>\n",
              "</table>\n",
              "<p>2402 rows × 14 columns</p>\n",
              "</div>"
            ],
            "text/plain": [
              "      area  rating  price  pool  garden  outdoor  play_area  family  single  \\\n",
              "0      148    10.0    500     1       0        0          0       0       0   \n",
              "1      148    10.0    500     1       0        0          0       0       0   \n",
              "2      148    10.0    500     1       0        1          0       0       0   \n",
              "3      148    10.0    500     0       1        1          0       0       0   \n",
              "4      450     9.5    450     1       0        1          0       0       0   \n",
              "...    ...     ...    ...   ...     ...      ...        ...     ...     ...   \n",
              "2397   200     0.0    249     0       0        0          0       0       0   \n",
              "2398   175     0.0    400     0       0        0          0       1       0   \n",
              "2399  1000     4.8    800     0       0        1          1       1       0   \n",
              "2400  2000     0.0   1200     0       0        0          1       0       0   \n",
              "2401   200     7.1    390     0       0        0          0       0       0   \n",
              "\n",
              "      property_type_apartment  property_type_camp  property_type_chalet  \\\n",
              "0                           1                   0                     0   \n",
              "1                           0                   0                     1   \n",
              "2                           0                   0                     1   \n",
              "3                           0                   0                     1   \n",
              "4                           0                   0                     1   \n",
              "...                       ...                 ...                   ...   \n",
              "2397                        1                   0                     0   \n",
              "2398                        1                   0                     0   \n",
              "2399                        0                   1                     0   \n",
              "2400                        0                   1                     0   \n",
              "2401                        1                   0                     0   \n",
              "\n",
              "      property_type_farm  property_type_resort  \n",
              "0                      0                     0  \n",
              "1                      0                     0  \n",
              "2                      0                     0  \n",
              "3                      0                     0  \n",
              "4                      0                     0  \n",
              "...                  ...                   ...  \n",
              "2397                   0                     0  \n",
              "2398                   0                     0  \n",
              "2399                   0                     0  \n",
              "2400                   0                     0  \n",
              "2401                   0                     0  \n",
              "\n",
              "[2402 rows x 14 columns]"
            ]
          },
          "execution_count": 128,
          "metadata": {},
          "output_type": "execute_result"
        }
      ],
      "source": [
        "df = pd.read_csv('clean_data.csv')\n",
        "df"
      ]
    },
    {
      "cell_type": "markdown",
      "id": "de5d945f",
      "metadata": {
        "id": "de5d945f"
      },
      "source": [
        "## Univariate Exploration\n",
        "\n",
        "I'll start by looking at the distribution of the main variable of interest: price."
      ]
    },
    {
      "cell_type": "code",
      "execution_count": null,
      "id": "761304b1",
      "metadata": {
        "scrolled": false,
        "id": "761304b1",
        "outputId": "350a59e4-7396-4944-aa61-bb9614321d32"
      },
      "outputs": [
        {
          "data": {
            "image/png": "[encoded data removed]",
            "text/plain": [
              "<Figure size 576x360 with 1 Axes>"
            ]
          },
          "metadata": {
            "needs_background": "light"
          },
          "output_type": "display_data"
        }
      ],
      "source": [
        "# start with a standard-scaled plot\n",
        "binsize = 100\n",
        "bins = np.arange(0, df['price'].max()+binsize, binsize)\n",
        "\n",
        "plt.figure(figsize=[8, 5])\n",
        "plt.hist(data = df, x = 'price', bins = bins)\n",
        "plt.xlabel('price (Rs)')\n",
        "plt.show()"
      ]
    },
    {
      "cell_type": "code",
      "execution_count": null,
      "id": "be852242",
      "metadata": {
        "id": "be852242",
        "outputId": "b96bdb4c-a31c-4ce2-f77c-f8c096c8e884"
      },
      "outputs": [
        {
          "data": {
            "image/png": "[encoded data removed]",
            "text/plain": [
              "<Figure size 576x360 with 1 Axes>"
            ]
          },
          "metadata": {
            "needs_background": "light"
          },
          "output_type": "display_data"
        }
      ],
      "source": [
        "# there's a long tail in the distribution, so let's put it on a log scale instead\n",
        "log_binsize = 0.08\n",
        "bins = 10 ** np.arange(2.4, np.log10(df['price'].max())+log_binsize, log_binsize)\n",
        "\n",
        "plt.figure(figsize=[8, 5])\n",
        "plt.hist(data = df, x = 'price', bins = bins)\n",
        "plt.xscale('log')\n",
        "plt.xticks([500, 1e3, 2e3, 5e3, 1e4, 2e4], [500, '1k', '2k', '5k', '10k', '20k'])\n",
        "plt.xlabel('Price (Rs)')\n",
        "plt.show()"
      ]
    },
    {
      "cell_type": "markdown",
      "id": "22634a55",
      "metadata": {
        "id": "22634a55"
      },
      "source": [
        "#### Price has a long-tailed distribution, with one peak between 400 Rs and 2000 Rs, and few on the high price end.\n",
        "#### there's a steep jump in frequency right before 500, rather than a smooth ramp up.\n",
        "\n",
        "Next up, exploring the numerical features area and rating variables."
      ]
    },
    {
      "cell_type": "code",
      "execution_count": null,
      "id": "ecc9f2de",
      "metadata": {
        "id": "ecc9f2de",
        "outputId": "f7f247fd-d16e-40ce-c326-6c36b89ec890"
      },
      "outputs": [
        {
          "data": {
            "image/png": "[encoded data removed]",
            "text/plain": [
              "<Figure size 576x360 with 1 Axes>"
            ]
          },
          "metadata": {
            "needs_background": "light"
          },
          "output_type": "display_data"
        }
      ],
      "source": [
        "# start with a standard-scaled plot\n",
        "binsize = 500\n",
        "bins = np.arange(0, df['area'].max()+binsize, binsize)\n",
        "\n",
        "plt.figure(figsize=[8, 5])\n",
        "plt.hist(data = df, x = 'area', bins = bins)\n",
        "plt.xlabel('area (sq meter)')\n",
        "plt.show()"
      ]
    },
    {
      "cell_type": "code",
      "execution_count": null,
      "id": "a4ca8038",
      "metadata": {
        "id": "a4ca8038",
        "outputId": "42edf2bb-a038-45bf-fcae-61170fd6fbcb"
      },
      "outputs": [
        {
          "data": {
            "image/png": "[encoded data removed]",
            "text/plain": [
              "<Figure size 576x360 with 1 Axes>"
            ]
          },
          "metadata": {
            "needs_background": "light"
          },
          "output_type": "display_data"
        }
      ],
      "source": [
        "# there's a long tail in the distribution, so let's put it on a log scale instead\n",
        "log_binsize = 0.1\n",
        "bins = 10 ** np.arange(2.4, np.log10(df['area'].max())+log_binsize, log_binsize)\n",
        "\n",
        "plt.figure(figsize=[8, 5])\n",
        "plt.hist(data = df, x = 'area', bins = bins)\n",
        "plt.xscale('log')\n",
        "plt.xticks([500, 1e3, 2e3, 5e3, 1e4, 2e4], [500, '1k', '2k', '5k', '10k', '20k'])\n",
        "plt.xlabel('arae (sq meter)')\n",
        "plt.show()"
      ]
    },
    {
      "cell_type": "markdown",
      "id": "913b6e08",
      "metadata": {
        "id": "913b6e08"
      },
      "source": [
        "#### Price has a very long-tailed distribution.\n",
        "#### there's a steep jump in frequency on the low range, rather than a smooth ramp up."
      ]
    },
    {
      "cell_type": "code",
      "execution_count": null,
      "id": "81431d4b",
      "metadata": {
        "id": "81431d4b",
        "outputId": "1bec403a-051a-4563-bff7-25befab2e082"
      },
      "outputs": [
        {
          "data": {
            "image/png": "[encoded data removed]",
            "text/plain": [
              "<Figure size 576x360 with 1 Axes>"
            ]
          },
          "metadata": {
            "needs_background": "light"
          },
          "output_type": "display_data"
        }
      ],
      "source": [
        "# start with a standard-scaled plot\n",
        "binsize = .5\n",
        "bins = np.arange(0, df['rating'].max()+binsize, binsize)\n",
        "\n",
        "plt.figure(figsize=[8, 5])\n",
        "plt.hist(data = df, x = 'rating', bins = bins)\n",
        "plt.xlabel('rating')\n",
        "plt.show()"
      ]
    },
    {
      "cell_type": "markdown",
      "id": "7ab20bfd",
      "metadata": {
        "id": "7ab20bfd"
      },
      "source": [
        "#### rating have a left skew tailed distribution, left smoth up with alot of data at the zero. "
      ]
    },
    {
      "cell_type": "markdown",
      "id": "5cf5dcf6",
      "metadata": {
        "id": "5cf5dcf6"
      },
      "source": [
        "The initial plot of the price, area, and rating features show some immediate points of attention. On the price and area plots, most of the data is set to the far left of their axes, suggesting some strong outliers on the right. While the rating have many miss leading observation at the zero. It's worth taking a bit of time to identify these outliers and see if they need to be filtered out of the data."
      ]
    },
    {
      "cell_type": "code",
      "execution_count": null,
      "id": "b2a73c69",
      "metadata": {
        "id": "b2a73c69",
        "outputId": "232c3c34-d0fb-4ddb-8e80-55f64184a0e9"
      },
      "outputs": [
        {
          "name": "stdout",
          "output_type": "stream",
          "text": [
            "price outliers: 6\n",
            "\n",
            "       area  rating  price  pool  garden  outdoor  play_area  family  single  \\\n",
            "318    3600     9.8  15000     0       0        1          0       0       0   \n",
            "764   20000     7.6  15000     0       1        0          0       0       0   \n",
            "914     288     0.0  25000     0       0        0          0       0       0   \n",
            "915     288     0.0  25000     0       0        0          0       0       0   \n",
            "916     500     0.0  15000     0       0        0          0       1       0   \n",
            "1553    141     9.9  25416     0       0        0          0       0       0   \n",
            "\n",
            "      property_type_apartment  property_type_camp  property_type_chalet  \\\n",
            "318                         0                   0                     0   \n",
            "764                         0                   0                     0   \n",
            "914                         0                   1                     0   \n",
            "915                         0                   1                     0   \n",
            "916                         0                   0                     0   \n",
            "1553                        1                   0                     0   \n",
            "\n",
            "      property_type_farm  property_type_resort  \n",
            "318                    1                     0  \n",
            "764                    0                     1  \n",
            "914                    0                     0  \n",
            "915                    0                     0  \n",
            "916                    0                     1  \n",
            "1553                   0                     0  \n",
            "\n",
            "\n",
            " area outliers: 56\n",
            "\n",
            "        area  rating  price  pool  garden  outdoor  play_area  family  single  \\\n",
            "22     15000     8.3    468     0       0        1          0       0       0   \n",
            "23    250000     9.8   2500     0       0        0          1       0       0   \n",
            "42     20000     0.0   1000     0       0        1          0       1       0   \n",
            "63     20000     0.0   1445     0       0        1          0       0       0   \n",
            "64     20000     0.0   1500     0       0        1          0       0       0   \n",
            "82     15000     8.3    468     0       0        0          1       0       0   \n",
            "96     12000     0.0    450     0       0        1          0       0       0   \n",
            "105    20000     9.8   1600     0       0        1          0       0       0   \n",
            "124    50000     0.0    500     0       0        0          0       0       0   \n",
            "147    20000     0.0   1800     0       0        0          1       1       0   \n",
            "160    20000    10.0   1500     0       0        1          1       0       0   \n",
            "237    20000    10.0   3000     0       0        0          1       0       0   \n",
            "262    20000    10.0   3000     1       0        0          0       0       0   \n",
            "764    20000     7.6  15000     0       1        0          0       0       0   \n",
            "768    15000     0.0   1500     0       0        0          1       0       0   \n",
            "769    20000    10.0   2700     0       0        0          0       0       0   \n",
            "782    16500     5.0   4000     0       1        0          0       0       0   \n",
            "786    25000     5.4    800     0       0        1          1       0       0   \n",
            "788    25000     5.4    800     0       0        1          0       0       0   \n",
            "819    15000     0.0   1000     0       0        1          0       0       0   \n",
            "826    25000     5.4    800     0       0        1          0       0       0   \n",
            "827    20000     6.8    650     0       1        1          0       0       0   \n",
            "828    20000     9.0   1100     0       1        0          0       0       0   \n",
            "908    50000     0.0   1900     0       0        1          0       0       0   \n",
            "911    26000     0.0   2500     0       0        1          0       0       0   \n",
            "1004  100050     0.0   4000     1       0        0          0       0       0   \n",
            "1098   40000     0.0    400     0       0        0          0       0       0   \n",
            "1131   15000     8.3    468     0       0        0          1       0       0   \n",
            "1152   27000    10.0   3500     0       1        1          0       0       0   \n",
            "1170   15000    10.0   1950     0       1        1          0       0       0   \n",
            "1183   15000     8.7    900     0       0        1          1       0       0   \n",
            "1211   60000     6.0    550     0       0        1          0       0       0   \n",
            "1239   60000     9.3    800     0       0        1          0       0       0   \n",
            "1307   60000     6.0    550     0       0        1          0       0       0   \n",
            "1367   20000     0.0   4500     0       0        0          0       0       0   \n",
            "1370   20000     0.0   2000     0       0        1          0       0       0   \n",
            "1497   20000     9.4   1500     0       1        1          0       0       0   \n",
            "1557   20000     8.7    690     0       0        1          1       0       0   \n",
            "1628   45000     0.0   3000     0       0        1          0       0       0   \n",
            "1645   20000     0.0   4800     0       0        0          0       0       0   \n",
            "1658   20000     7.5   1200     0       0        1          0       0       0   \n",
            "1707   20000     0.0   7000     0       0        1          0       0       0   \n",
            "1738   15000     9.1   1500     0       0        1          0       0       0   \n",
            "1759   12000     9.3   1650     0       0        1          0       0       0   \n",
            "1760   24000    10.0   4500     0       0        1          0       0       0   \n",
            "1852   20000     0.0   1300     0       0        1          0       0       0   \n",
            "1879   50000     0.0   1700     0       0        1          0       0       0   \n",
            "2073   40000     0.0   1000     0       0        1          0       0       0   \n",
            "2153   60000    10.0   3160     0       1        0          0       0       0   \n",
            "2230   11000     8.2   4000     0       0        0          1       0       0   \n",
            "2276   20000     0.0   2300     0       0        1          0       0       0   \n",
            "2284   27000     0.0   3000     0       1        0          0       0       0   \n",
            "2304   18000     0.0   3500     0       1        0          0       1       0   \n",
            "2335   50000     0.0   2000     0       0        0          0       0       0   \n",
            "2370   15000     0.0    450     0       0        0          0       0       0   \n",
            "2389   30000     9.5    950     0       0        1          0       0       0   \n",
            "\n",
            "      property_type_apartment  property_type_camp  property_type_chalet  \\\n",
            "22                          0                   1                     0   \n",
            "23                          0                   0                     1   \n",
            "42                          0                   1                     0   \n",
            "63                          0                   1                     0   \n",
            "64                          0                   1                     0   \n",
            "82                          0                   1                     0   \n",
            "96                          0                   1                     0   \n",
            "105                         0                   1                     0   \n",
            "124                         0                   0                     0   \n",
            "147                         0                   1                     0   \n",
            "160                         0                   1                     0   \n",
            "237                         0                   1                     0   \n",
            "262                         0                   0                     0   \n",
            "764                         0                   0                     0   \n",
            "768                         0                   1                     0   \n",
            "769                         0                   1                     0   \n",
            "782                         0                   0                     0   \n",
            "786                         0                   1                     0   \n",
            "788                         0                   1                     0   \n",
            "819                         0                   1                     0   \n",
            "826                         0                   1                     0   \n",
            "827                         0                   0                     0   \n",
            "828                         0                   0                     0   \n",
            "908                         0                   1                     0   \n",
            "911                         0                   0                     0   \n",
            "1004                        0                   0                     0   \n",
            "1098                        0                   1                     0   \n",
            "1131                        0                   1                     0   \n",
            "1152                        0                   1                     0   \n",
            "1170                        0                   0                     0   \n",
            "1183                        0                   1                     0   \n",
            "1211                        0                   1                     0   \n",
            "1239                        0                   1                     0   \n",
            "1307                        0                   1                     0   \n",
            "1367                        0                   1                     0   \n",
            "1370                        0                   0                     0   \n",
            "1497                        0                   0                     0   \n",
            "1557                        0                   1                     0   \n",
            "1628                        0                   1                     0   \n",
            "1645                        0                   1                     0   \n",
            "1658                        0                   1                     0   \n",
            "1707                        0                   1                     0   \n",
            "1738                        0                   0                     0   \n",
            "1759                        0                   1                     0   \n",
            "1760                        0                   1                     0   \n",
            "1852                        0                   1                     0   \n",
            "1879                        0                   1                     0   \n",
            "2073                        0                   1                     0   \n",
            "2153                        0                   0                     0   \n",
            "2230                        0                   0                     0   \n",
            "2276                        0                   1                     0   \n",
            "2284                        0                   0                     0   \n",
            "2304                        0                   0                     0   \n",
            "2335                        0                   1                     0   \n",
            "2370                        0                   1                     0   \n",
            "2389                        0                   1                     0   \n",
            "\n",
            "      property_type_farm  property_type_resort  \n",
            "22                     0                     0  \n",
            "23                     0                     0  \n",
            "42                     0                     0  \n",
            "63                     0                     0  \n",
            "64                     0                     0  \n",
            "82                     0                     0  \n",
            "96                     0                     0  \n",
            "105                    0                     0  \n",
            "124                    1                     0  \n",
            "147                    0                     0  \n",
            "160                    0                     0  \n",
            "237                    0                     0  \n",
            "262                    0                     1  \n",
            "764                    0                     1  \n",
            "768                    0                     0  \n",
            "769                    0                     0  \n",
            "782                    1                     0  \n",
            "786                    0                     0  \n",
            "788                    0                     0  \n",
            "819                    0                     0  \n",
            "826                    0                     0  \n",
            "827                    1                     0  \n",
            "828                    1                     0  \n",
            "908                    0                     0  \n",
            "911                    1                     0  \n",
            "1004                   1                     0  \n",
            "1098                   0                     0  \n",
            "1131                   0                     0  \n",
            "1152                   0                     0  \n",
            "1170                   1                     0  \n",
            "1183                   0                     0  \n",
            "1211                   0                     0  \n",
            "1239                   0                     0  \n",
            "1307                   0                     0  \n",
            "1367                   0                     0  \n",
            "1370                   1                     0  \n",
            "1497                   1                     0  \n",
            "1557                   0                     0  \n",
            "1628                   0                     0  \n",
            "1645                   0                     0  \n",
            "1658                   0                     0  \n",
            "1707                   0                     0  \n",
            "1738                   1                     0  \n",
            "1759                   0                     0  \n",
            "1760                   0                     0  \n",
            "1852                   0                     0  \n",
            "1879                   0                     0  \n",
            "2073                   0                     0  \n",
            "2153                   1                     0  \n",
            "2230                   0                     1  \n",
            "2276                   0                     0  \n",
            "2284                   1                     0  \n",
            "2304                   1                     0  \n",
            "2335                   0                     0  \n",
            "2370                   0                     0  \n",
            "2389                   0                     0  \n"
          ]
        }
      ],
      "source": [
        "# select low outliers, using criteria eyeballed from the plots\n",
        "\n",
        "price_outliers = (df['price'] > 10000) \n",
        "area_outliers = (df['area'] > 10000)\n",
        "print('price outliers: {}\\n'.format(price_outliers.sum()))\n",
        "print(df.loc[price_outliers,:])\n",
        "\n",
        "print('\\n\\n area outliers: {}\\n'.format(area_outliers.sum()))\n",
        "print(df.loc[area_outliers,:])"
      ]
    },
    {
      "cell_type": "markdown",
      "id": "c0140fc7",
      "metadata": {
        "id": "c0140fc7"
      },
      "source": [
        "It is a few line to drop rather than miss leading propablity."
      ]
    },
    {
      "cell_type": "code",
      "execution_count": null,
      "id": "d3fa8f93",
      "metadata": {
        "id": "d3fa8f93",
        "outputId": "e71dfb51-3c58-4d5e-9b08-8b807c2fefb7"
      },
      "outputs": [
        {
          "data": {
            "text/plain": [
              "Int64Index([  22,   23,   42,   63,   64,   82,   96,  105,  124,  147,  160,\n",
              "             237,  262,  318,  764,  768,  769,  782,  786,  788,  819,  826,\n",
              "             827,  828,  908,  911,  914,  915,  916, 1004, 1098, 1131, 1152,\n",
              "            1170, 1183, 1211, 1239, 1307, 1367, 1370, 1497, 1553, 1557, 1628,\n",
              "            1645, 1658, 1707, 1738, 1759, 1760, 1852, 1879, 2073, 2153, 2230,\n",
              "            2276, 2284, 2304, 2335, 2370, 2389],\n",
              "           dtype='int64')"
            ]
          },
          "execution_count": 135,
          "metadata": {},
          "output_type": "execute_result"
        }
      ],
      "source": [
        "index_to_drop = (df[price_outliers].index.union(df[area_outliers].index))\n",
        "index_to_drop"
      ]
    },
    {
      "cell_type": "code",
      "execution_count": null,
      "id": "991e3765",
      "metadata": {
        "id": "991e3765"
      },
      "outputs": [],
      "source": [
        "df = df.drop (index = index_to_drop)"
      ]
    },
    {
      "cell_type": "markdown",
      "id": "d458e34e",
      "metadata": {
        "id": "d458e34e"
      },
      "source": [
        "Rating of zero will be replaced by each property category rating mean to avoid miss leading"
      ]
    },
    {
      "cell_type": "code",
      "execution_count": null,
      "id": "d401fd6b",
      "metadata": {
        "id": "d401fd6b"
      },
      "outputs": [],
      "source": [
        "camp_rating_mean = df[df.property_type_camp==1].rating.mean()\n",
        "farm_rating_mean = df[df.property_type_farm==1].rating.mean()\n",
        "chalet_rating_mean = df[df.property_type_chalet==1].rating.mean()\n",
        "resort_rating_mean = df[df.property_type_resort==1].rating.mean()\n",
        "apartment_rating_mean = df[df.property_type_apartment==1].rating.mean()"
      ]
    },
    {
      "cell_type": "code",
      "execution_count": null,
      "id": "b6c847db",
      "metadata": {
        "id": "b6c847db"
      },
      "outputs": [],
      "source": [
        "camp_mask = df[(df.property_type_camp==1 )&(df.rating==0)]\n",
        "farm_mask = df[(df.property_type_farm==1 )&(df.rating==0)]\n",
        "chalet = df[(df.property_type_chalet==1 )&(df.rating==0)]\n",
        "resort_mask = df[(df.property_type_resort==1 )&(df.rating==0)]\n",
        "apartment_mask = df[(df.property_type_apartment==1 )&(df.rating==0)]\n",
        "\n",
        "df.loc[camp_mask.index, 'rating'] = camp_rating_mean\n",
        "df.loc[farm_mask.index, 'rating'] = farm_rating_mean\n",
        "df.loc[chalet.index, 'rating'] = chalet_rating_mean\n",
        "df.loc[resort_mask.index, 'rating'] = resort_rating_mean\n",
        "df.loc[apartment_mask.index, 'rating'] = apartment_rating_mean\n",
        "\n",
        "df = df.round(1)\n",
        "df = df.reset_index(drop=True)"
      ]
    },
    {
      "cell_type": "code",
      "execution_count": null,
      "id": "84f773f7",
      "metadata": {
        "id": "84f773f7",
        "outputId": "18791adf-20ec-42ab-e222-a1158bcd61be"
      },
      "outputs": [
        {
          "data": {
            "image/png": "[encoded data removed]",
            "text/plain": [
              "<Figure size 576x432 with 3 Axes>"
            ]
          },
          "metadata": {
            "needs_background": "light"
          },
          "output_type": "display_data"
        }
      ],
      "source": [
        "from pylab import *\n",
        "f, ax = plt.subplots(figsize=(8, 6))\n",
        "\n",
        "subplot(2,3,1)\n",
        "sns.boxplot(y = df['price']) \n",
        "\n",
        "subplot(2,3,2)\n",
        "sns.boxplot(y = df['rating'])\n",
        "\n",
        "subplot(2,3,3)\n",
        "sns.boxplot(y = df['area'])\n",
        "\n",
        "plt.tight_layout() # avoid overlap of plots\n",
        "plt.draw()"
      ]
    },
    {
      "cell_type": "markdown",
      "id": "63e52292",
      "metadata": {
        "id": "63e52292"
      },
      "source": [
        "## Bivariate Exploration\n",
        "To start off with, I want to look at the pairwise correlations present between features in the data."
      ]
    },
    {
      "cell_type": "code",
      "execution_count": null,
      "id": "3ce8aea1",
      "metadata": {
        "id": "3ce8aea1",
        "outputId": "80f3bb35-cafb-4d45-82ec-c8bf5e4bee03"
      },
      "outputs": [
        {
          "data": {
            "image/png": "[encoded data removed]",
            "text/plain": [
              "<Figure size 1440x576 with 2 Axes>"
            ]
          },
          "metadata": {
            "needs_background": "light"
          },
          "output_type": "display_data"
        }
      ],
      "source": [
        "# creating heat map to understand the correlation between variables\n",
        "plt.figure(figsize=(20,8))\n",
        "sns.heatmap(df.corr(), annot=True, cmap=\"plasma\");"
      ]
    },
    {
      "cell_type": "code",
      "execution_count": null,
      "id": "66715c4e",
      "metadata": {
        "id": "66715c4e",
        "outputId": "9d6fedac-8da5-4753-ad42-96f67daf98de"
      },
      "outputs": [
        {
          "data": {
            "image/png": "[encoded data removed]",
            "text/plain": [
              "<Figure size 540x540 with 12 Axes>"
            ]
          },
          "metadata": {
            "needs_background": "light"
          },
          "output_type": "display_data"
        }
      ],
      "source": [
        "sns.pairplot(df[['rating', 'price', 'area']]);"
      ]
    },
    {
      "cell_type": "code",
      "execution_count": null,
      "id": "d8bdf46b",
      "metadata": {
        "id": "d8bdf46b",
        "outputId": "6ffdbb63-625d-4351-f134-a5e5b1e5efed"
      },
      "outputs": [
        {
          "data": {
            "image/png": "[encoded data removed]",
            "text/plain": [
              "<Figure size 432x288 with 1 Axes>"
            ]
          },
          "metadata": {
            "needs_background": "light"
          },
          "output_type": "display_data"
        }
      ],
      "source": [
        "plt.scatter(df['area'], df['price']);\n",
        "plt.xlabel('area');\n",
        "plt.ylabel('Price');\n",
        "plt.title('Vaction Home rental Price vs. area');"
      ]
    },
    {
      "cell_type": "code",
      "execution_count": null,
      "id": "ceba2c17",
      "metadata": {
        "id": "ceba2c17",
        "outputId": "c9b5de77-f470-4409-f656-ef04188c1dde"
      },
      "outputs": [
        {
          "data": {
            "image/png": "[encoded data removed]",
            "text/plain": [
              "<Figure size 432x288 with 1 Axes>"
            ]
          },
          "metadata": {
            "needs_background": "light"
          },
          "output_type": "display_data"
        }
      ],
      "source": [
        "plt.scatter(df['rating'], df['price']);\n",
        "plt.xlabel('rating');\n",
        "plt.ylabel('Price');\n",
        "plt.title('Vaction Home rental Price vs. area');"
      ]
    },
    {
      "cell_type": "code",
      "execution_count": null,
      "id": "cdc1cbee",
      "metadata": {
        "id": "cdc1cbee",
        "outputId": "c5e991cf-5b40-4398-fd86-8eae4c6bc494"
      },
      "outputs": [
        {
          "data": {
            "text/html": [
              "<div>\n",
              "<style scoped>\n",
              "    .dataframe tbody tr th:only-of-type {\n",
              "        vertical-align: middle;\n",
              "    }\n",
              "\n",
              "    .dataframe tbody tr th {\n",
              "        vertical-align: top;\n",
              "    }\n",
              "\n",
              "    .dataframe thead th {\n",
              "        text-align: right;\n",
              "    }\n",
              "</style>\n",
              "<table border=\"1\" class=\"dataframe\">\n",
              "  <thead>\n",
              "    <tr style=\"text-align: right;\">\n",
              "      <th></th>\n",
              "      <th>area</th>\n",
              "      <th>rating</th>\n",
              "      <th>price</th>\n",
              "      <th>pool</th>\n",
              "      <th>garden</th>\n",
              "      <th>outdoor</th>\n",
              "      <th>play_area</th>\n",
              "      <th>family</th>\n",
              "      <th>single</th>\n",
              "      <th>property_type_apartment</th>\n",
              "      <th>property_type_camp</th>\n",
              "      <th>property_type_chalet</th>\n",
              "      <th>property_type_farm</th>\n",
              "      <th>property_type_resort</th>\n",
              "    </tr>\n",
              "  </thead>\n",
              "  <tbody>\n",
              "    <tr>\n",
              "      <th>0</th>\n",
              "      <td>148</td>\n",
              "      <td>10.0</td>\n",
              "      <td>500</td>\n",
              "      <td>1</td>\n",
              "      <td>0</td>\n",
              "      <td>0</td>\n",
              "      <td>0</td>\n",
              "      <td>0</td>\n",
              "      <td>0</td>\n",
              "      <td>1</td>\n",
              "      <td>0</td>\n",
              "      <td>0</td>\n",
              "      <td>0</td>\n",
              "      <td>0</td>\n",
              "    </tr>\n",
              "    <tr>\n",
              "      <th>1</th>\n",
              "      <td>148</td>\n",
              "      <td>10.0</td>\n",
              "      <td>500</td>\n",
              "      <td>1</td>\n",
              "      <td>0</td>\n",
              "      <td>0</td>\n",
              "      <td>0</td>\n",
              "      <td>0</td>\n",
              "      <td>0</td>\n",
              "      <td>0</td>\n",
              "      <td>0</td>\n",
              "      <td>1</td>\n",
              "      <td>0</td>\n",
              "      <td>0</td>\n",
              "    </tr>\n",
              "    <tr>\n",
              "      <th>2</th>\n",
              "      <td>148</td>\n",
              "      <td>10.0</td>\n",
              "      <td>500</td>\n",
              "      <td>1</td>\n",
              "      <td>0</td>\n",
              "      <td>1</td>\n",
              "      <td>0</td>\n",
              "      <td>0</td>\n",
              "      <td>0</td>\n",
              "      <td>0</td>\n",
              "      <td>0</td>\n",
              "      <td>1</td>\n",
              "      <td>0</td>\n",
              "      <td>0</td>\n",
              "    </tr>\n",
              "    <tr>\n",
              "      <th>3</th>\n",
              "      <td>148</td>\n",
              "      <td>10.0</td>\n",
              "      <td>500</td>\n",
              "      <td>0</td>\n",
              "      <td>1</td>\n",
              "      <td>1</td>\n",
              "      <td>0</td>\n",
              "      <td>0</td>\n",
              "      <td>0</td>\n",
              "      <td>0</td>\n",
              "      <td>0</td>\n",
              "      <td>1</td>\n",
              "      <td>0</td>\n",
              "      <td>0</td>\n",
              "    </tr>\n",
              "    <tr>\n",
              "      <th>4</th>\n",
              "      <td>450</td>\n",
              "      <td>9.5</td>\n",
              "      <td>450</td>\n",
              "      <td>1</td>\n",
              "      <td>0</td>\n",
              "      <td>1</td>\n",
              "      <td>0</td>\n",
              "      <td>0</td>\n",
              "      <td>0</td>\n",
              "      <td>0</td>\n",
              "      <td>0</td>\n",
              "      <td>1</td>\n",
              "      <td>0</td>\n",
              "      <td>0</td>\n",
              "    </tr>\n",
              "    <tr>\n",
              "      <th>...</th>\n",
              "      <td>...</td>\n",
              "      <td>...</td>\n",
              "      <td>...</td>\n",
              "      <td>...</td>\n",
              "      <td>...</td>\n",
              "      <td>...</td>\n",
              "      <td>...</td>\n",
              "      <td>...</td>\n",
              "      <td>...</td>\n",
              "      <td>...</td>\n",
              "      <td>...</td>\n",
              "      <td>...</td>\n",
              "      <td>...</td>\n",
              "      <td>...</td>\n",
              "    </tr>\n",
              "    <tr>\n",
              "      <th>2336</th>\n",
              "      <td>200</td>\n",
              "      <td>6.3</td>\n",
              "      <td>249</td>\n",
              "      <td>0</td>\n",
              "      <td>0</td>\n",
              "      <td>0</td>\n",
              "      <td>0</td>\n",
              "      <td>0</td>\n",
              "      <td>0</td>\n",
              "      <td>1</td>\n",
              "      <td>0</td>\n",
              "      <td>0</td>\n",
              "      <td>0</td>\n",
              "      <td>0</td>\n",
              "    </tr>\n",
              "    <tr>\n",
              "      <th>2337</th>\n",
              "      <td>175</td>\n",
              "      <td>6.3</td>\n",
              "      <td>400</td>\n",
              "      <td>0</td>\n",
              "      <td>0</td>\n",
              "      <td>0</td>\n",
              "      <td>0</td>\n",
              "      <td>1</td>\n",
              "      <td>0</td>\n",
              "      <td>1</td>\n",
              "      <td>0</td>\n",
              "      <td>0</td>\n",
              "      <td>0</td>\n",
              "      <td>0</td>\n",
              "    </tr>\n",
              "    <tr>\n",
              "      <th>2338</th>\n",
              "      <td>1000</td>\n",
              "      <td>4.8</td>\n",
              "      <td>800</td>\n",
              "      <td>0</td>\n",
              "      <td>0</td>\n",
              "      <td>1</td>\n",
              "      <td>1</td>\n",
              "      <td>1</td>\n",
              "      <td>0</td>\n",
              "      <td>0</td>\n",
              "      <td>1</td>\n",
              "      <td>0</td>\n",
              "      <td>0</td>\n",
              "      <td>0</td>\n",
              "    </tr>\n",
              "    <tr>\n",
              "      <th>2339</th>\n",
              "      <td>2000</td>\n",
              "      <td>2.7</td>\n",
              "      <td>1200</td>\n",
              "      <td>0</td>\n",
              "      <td>0</td>\n",
              "      <td>0</td>\n",
              "      <td>1</td>\n",
              "      <td>0</td>\n",
              "      <td>0</td>\n",
              "      <td>0</td>\n",
              "      <td>1</td>\n",
              "      <td>0</td>\n",
              "      <td>0</td>\n",
              "      <td>0</td>\n",
              "    </tr>\n",
              "    <tr>\n",
              "      <th>2340</th>\n",
              "      <td>200</td>\n",
              "      <td>7.1</td>\n",
              "      <td>390</td>\n",
              "      <td>0</td>\n",
              "      <td>0</td>\n",
              "      <td>0</td>\n",
              "      <td>0</td>\n",
              "      <td>0</td>\n",
              "      <td>0</td>\n",
              "      <td>1</td>\n",
              "      <td>0</td>\n",
              "      <td>0</td>\n",
              "      <td>0</td>\n",
              "      <td>0</td>\n",
              "    </tr>\n",
              "  </tbody>\n",
              "</table>\n",
              "<p>2341 rows × 14 columns</p>\n",
              "</div>"
            ],
            "text/plain": [
              "      area  rating  price  pool  garden  outdoor  play_area  family  single  \\\n",
              "0      148    10.0    500     1       0        0          0       0       0   \n",
              "1      148    10.0    500     1       0        0          0       0       0   \n",
              "2      148    10.0    500     1       0        1          0       0       0   \n",
              "3      148    10.0    500     0       1        1          0       0       0   \n",
              "4      450     9.5    450     1       0        1          0       0       0   \n",
              "...    ...     ...    ...   ...     ...      ...        ...     ...     ...   \n",
              "2336   200     6.3    249     0       0        0          0       0       0   \n",
              "2337   175     6.3    400     0       0        0          0       1       0   \n",
              "2338  1000     4.8    800     0       0        1          1       1       0   \n",
              "2339  2000     2.7   1200     0       0        0          1       0       0   \n",
              "2340   200     7.1    390     0       0        0          0       0       0   \n",
              "\n",
              "      property_type_apartment  property_type_camp  property_type_chalet  \\\n",
              "0                           1                   0                     0   \n",
              "1                           0                   0                     1   \n",
              "2                           0                   0                     1   \n",
              "3                           0                   0                     1   \n",
              "4                           0                   0                     1   \n",
              "...                       ...                 ...                   ...   \n",
              "2336                        1                   0                     0   \n",
              "2337                        1                   0                     0   \n",
              "2338                        0                   1                     0   \n",
              "2339                        0                   1                     0   \n",
              "2340                        1                   0                     0   \n",
              "\n",
              "      property_type_farm  property_type_resort  \n",
              "0                      0                     0  \n",
              "1                      0                     0  \n",
              "2                      0                     0  \n",
              "3                      0                     0  \n",
              "4                      0                     0  \n",
              "...                  ...                   ...  \n",
              "2336                   0                     0  \n",
              "2337                   0                     0  \n",
              "2338                   0                     0  \n",
              "2339                   0                     0  \n",
              "2340                   0                     0  \n",
              "\n",
              "[2341 rows x 14 columns]"
            ]
          },
          "execution_count": 144,
          "metadata": {},
          "output_type": "execute_result"
        }
      ],
      "source": [
        "df"
      ]
    },
    {
      "cell_type": "markdown",
      "id": "0d026f7a",
      "metadata": {
        "id": "0d026f7a"
      },
      "source": [
        "## linear regression"
      ]
    },
    {
      "cell_type": "code",
      "execution_count": null,
      "id": "eec34b3a",
      "metadata": {
        "scrolled": true,
        "id": "eec34b3a",
        "outputId": "1d6a1cc1-ee60-4b97-cdad-5540ea1dbe53"
      },
      "outputs": [
        {
          "data": {
            "image/png": "[encoded data removed]",
            "text/plain": [
              "<Figure size 432x288 with 1 Axes>"
            ]
          },
          "metadata": {
            "needs_background": "light"
          },
          "output_type": "display_data"
        }
      ],
      "source": [
        "## To show the line that was fit I used the following code from \n",
        "## https://plot.ly/matplotlib/linear-fits/\n",
        "## It isn't the greatest fit... but it isn't awful either\n",
        "\n",
        "\n",
        "#import chart_studio.plotly as py\n",
        "#import plotly.graph_objs as go\n",
        "\n",
        "# MatPlotlib\n",
        "import matplotlib.pyplot as plt\n",
        "from matplotlib import pylab\n",
        "\n",
        "# Scientific libraries\n",
        "from numpy import arange,array,ones\n",
        "from scipy import stats\n",
        "\n",
        "xi = arange(0,10000)\n",
        "\n",
        "\n",
        "# (Almost) linear sequence\n",
        "y = df['price']\n",
        "x = df['area']\n",
        "\n",
        "# Generated linear fit\n",
        "slope, intercept, r_value, p_value, std_err = stats.linregress(x,y)\n",
        "line = slope*xi+intercept\n",
        "\n",
        "plt.plot(x,y,'o', xi, line);\n",
        "plt.xlabel('Area');\n",
        "plt.ylabel('Price');\n",
        "pylab.title('Price vs Area');"
      ]
    },
    {
      "cell_type": "code",
      "execution_count": null,
      "id": "afeb408e",
      "metadata": {
        "id": "afeb408e",
        "outputId": "9b43a42f-be11-47fc-b534-11c7792c2a94"
      },
      "outputs": [
        {
          "data": {
            "text/html": [
              "<table class=\"simpletable\">\n",
              "<caption>OLS Regression Results</caption>\n",
              "<tr>\n",
              "  <th>Dep. Variable:</th>          <td>price</td>      <th>  R-squared:         </th> <td>   0.050</td> \n",
              "</tr>\n",
              "<tr>\n",
              "  <th>Model:</th>                   <td>OLS</td>       <th>  Adj. R-squared:    </th> <td>   0.049</td> \n",
              "</tr>\n",
              "<tr>\n",
              "  <th>Method:</th>             <td>Least Squares</td>  <th>  F-statistic:       </th> <td>   122.0</td> \n",
              "</tr>\n",
              "<tr>\n",
              "  <th>Date:</th>             <td>Tue, 07 Dec 2021</td> <th>  Prob (F-statistic):</th> <td>1.08e-27</td> \n",
              "</tr>\n",
              "<tr>\n",
              "  <th>Time:</th>                 <td>02:43:50</td>     <th>  Log-Likelihood:    </th> <td> -18903.</td> \n",
              "</tr>\n",
              "<tr>\n",
              "  <th>No. Observations:</th>      <td>  2341</td>      <th>  AIC:               </th> <td>3.781e+04</td>\n",
              "</tr>\n",
              "<tr>\n",
              "  <th>Df Residuals:</th>          <td>  2339</td>      <th>  BIC:               </th> <td>3.782e+04</td>\n",
              "</tr>\n",
              "<tr>\n",
              "  <th>Df Model:</th>              <td>     1</td>      <th>                     </th>     <td> </td>    \n",
              "</tr>\n",
              "<tr>\n",
              "  <th>Covariance Type:</th>      <td>nonrobust</td>    <th>                     </th>     <td> </td>    \n",
              "</tr>\n",
              "</table>\n",
              "<table class=\"simpletable\">\n",
              "<tr>\n",
              "      <td></td>         <th>coef</th>     <th>std err</th>      <th>t</th>      <th>P>|t|</th>  <th>[0.025</th>    <th>0.975]</th>  \n",
              "</tr>\n",
              "<tr>\n",
              "  <th>intercept</th> <td>  846.9246</td> <td>   18.475</td> <td>   45.842</td> <td> 0.000</td> <td>  810.696</td> <td>  883.153</td>\n",
              "</tr>\n",
              "<tr>\n",
              "  <th>area</th>      <td>    0.0974</td> <td>    0.009</td> <td>   11.047</td> <td> 0.000</td> <td>    0.080</td> <td>    0.115</td>\n",
              "</tr>\n",
              "</table>\n",
              "<table class=\"simpletable\">\n",
              "<tr>\n",
              "  <th>Omnibus:</th>       <td>2291.406</td> <th>  Durbin-Watson:     </th>  <td>   1.721</td> \n",
              "</tr>\n",
              "<tr>\n",
              "  <th>Prob(Omnibus):</th>  <td> 0.000</td>  <th>  Jarque-Bera (JB):  </th> <td>129172.790</td>\n",
              "</tr>\n",
              "<tr>\n",
              "  <th>Skew:</th>           <td> 4.664</td>  <th>  Prob(JB):          </th>  <td>    0.00</td> \n",
              "</tr>\n",
              "<tr>\n",
              "  <th>Kurtosis:</th>       <td>38.175</td>  <th>  Cond. No.          </th>  <td>2.41e+03</td> \n",
              "</tr>\n",
              "</table><br/><br/>Notes:<br/>[1] Standard Errors assume that the covariance matrix of the errors is correctly specified.<br/>[2] The condition number is large, 2.41e+03. This might indicate that there are<br/>strong multicollinearity or other numerical problems."
            ],
            "text/plain": [
              "<class 'statsmodels.iolib.summary.Summary'>\n",
              "\"\"\"\n",
              "                            OLS Regression Results                            \n",
              "==============================================================================\n",
              "Dep. Variable:                  price   R-squared:                       0.050\n",
              "Model:                            OLS   Adj. R-squared:                  0.049\n",
              "Method:                 Least Squares   F-statistic:                     122.0\n",
              "Date:                Tue, 07 Dec 2021   Prob (F-statistic):           1.08e-27\n",
              "Time:                        02:43:50   Log-Likelihood:                -18903.\n",
              "No. Observations:                2341   AIC:                         3.781e+04\n",
              "Df Residuals:                    2339   BIC:                         3.782e+04\n",
              "Df Model:                           1                                         \n",
              "Covariance Type:            nonrobust                                         \n",
              "==============================================================================\n",
              "                 coef    std err          t      P>|t|      [0.025      0.975]\n",
              "------------------------------------------------------------------------------\n",
              "intercept    846.9246     18.475     45.842      0.000     810.696     883.153\n",
              "area           0.0974      0.009     11.047      0.000       0.080       0.115\n",
              "==============================================================================\n",
              "Omnibus:                     2291.406   Durbin-Watson:                   1.721\n",
              "Prob(Omnibus):                  0.000   Jarque-Bera (JB):           129172.790\n",
              "Skew:                           4.664   Prob(JB):                         0.00\n",
              "Kurtosis:                      38.175   Cond. No.                     2.41e+03\n",
              "==============================================================================\n",
              "\n",
              "Notes:\n",
              "[1] Standard Errors assume that the covariance matrix of the errors is correctly specified.\n",
              "[2] The condition number is large, 2.41e+03. This might indicate that there are\n",
              "strong multicollinearity or other numerical problems.\n",
              "\"\"\""
            ]
          },
          "execution_count": 49,
          "metadata": {},
          "output_type": "execute_result"
        }
      ],
      "source": [
        "import statsmodels.api as sms;\n",
        "\n",
        "df['intercept'] = 1\n",
        "\n",
        "lm = sms.OLS(df['price'], df[['intercept', 'area']])\n",
        "results = lm.fit()\n",
        "results.summary()"
      ]
    },
    {
      "cell_type": "code",
      "execution_count": null,
      "id": "c6df6986",
      "metadata": {
        "scrolled": true,
        "id": "c6df6986",
        "outputId": "91701674-044f-4cd6-f496-cca4cae8e917"
      },
      "outputs": [
        {
          "data": {
            "image/png": "[encoded data removed]",
            "text/plain": [
              "<Figure size 432x288 with 1 Axes>"
            ]
          },
          "metadata": {
            "needs_background": "light"
          },
          "output_type": "display_data"
        }
      ],
      "source": [
        "## To show the line that was fit I used the following code from \n",
        "## https://plot.ly/matplotlib/linear-fits/\n",
        "## It isn't the greatest fit... but it isn't awful either\n",
        "\n",
        "\n",
        "#import chart_studio.plotly as py\n",
        "#import plotly.graph_objs as go\n",
        "\n",
        "# MatPlotlib\n",
        "import matplotlib.pyplot as plt\n",
        "from matplotlib import pylab\n",
        "\n",
        "# Scientific libraries\n",
        "from numpy import arange,array,ones\n",
        "from scipy import stats\n",
        "\n",
        "xi = arange(0,10)\n",
        "\n",
        "\n",
        "# (Almost) linear sequence\n",
        "y = df['price']\n",
        "x = df['rating']\n",
        "\n",
        "# Generated linear fit\n",
        "slope, intercept, r_value, p_value, std_err = stats.linregress(x,y)\n",
        "line = slope*xi+intercept\n",
        "\n",
        "plt.plot(x,y,'o', xi, line);\n",
        "plt.xlabel('Area');\n",
        "plt.ylabel('Price');\n",
        "pylab.title('Price vs Rating');"
      ]
    },
    {
      "cell_type": "code",
      "execution_count": null,
      "id": "0f5d3e19",
      "metadata": {
        "id": "0f5d3e19",
        "outputId": "147feec5-46ff-4d52-c93e-d56d5ff5e7d4"
      },
      "outputs": [
        {
          "data": {
            "text/html": [
              "<table class=\"simpletable\">\n",
              "<caption>OLS Regression Results</caption>\n",
              "<tr>\n",
              "  <th>Dep. Variable:</th>          <td>price</td>      <th>  R-squared:         </th> <td>   0.001</td> \n",
              "</tr>\n",
              "<tr>\n",
              "  <th>Model:</th>                   <td>OLS</td>       <th>  Adj. R-squared:    </th> <td>   0.001</td> \n",
              "</tr>\n",
              "<tr>\n",
              "  <th>Method:</th>             <td>Least Squares</td>  <th>  F-statistic:       </th> <td>   2.245</td> \n",
              "</tr>\n",
              "<tr>\n",
              "  <th>Date:</th>             <td>Tue, 07 Dec 2021</td> <th>  Prob (F-statistic):</th>  <td> 0.134</td>  \n",
              "</tr>\n",
              "<tr>\n",
              "  <th>Time:</th>                 <td>02:43:51</td>     <th>  Log-Likelihood:    </th> <td> -18962.</td> \n",
              "</tr>\n",
              "<tr>\n",
              "  <th>No. Observations:</th>      <td>  2341</td>      <th>  AIC:               </th> <td>3.793e+04</td>\n",
              "</tr>\n",
              "<tr>\n",
              "  <th>Df Residuals:</th>          <td>  2339</td>      <th>  BIC:               </th> <td>3.794e+04</td>\n",
              "</tr>\n",
              "<tr>\n",
              "  <th>Df Model:</th>              <td>     1</td>      <th>                     </th>     <td> </td>    \n",
              "</tr>\n",
              "<tr>\n",
              "  <th>Covariance Type:</th>      <td>nonrobust</td>    <th>                     </th>     <td> </td>    \n",
              "</tr>\n",
              "</table>\n",
              "<table class=\"simpletable\">\n",
              "<tr>\n",
              "      <td></td>         <th>coef</th>     <th>std err</th>      <th>t</th>      <th>P>|t|</th>  <th>[0.025</th>    <th>0.975]</th>  \n",
              "</tr>\n",
              "<tr>\n",
              "  <th>intercept</th> <td> 1014.2649</td> <td>   47.467</td> <td>   21.368</td> <td> 0.000</td> <td>  921.183</td> <td> 1107.346</td>\n",
              "</tr>\n",
              "<tr>\n",
              "  <th>rating</th>    <td>   -9.3984</td> <td>    6.272</td> <td>   -1.498</td> <td> 0.134</td> <td>  -21.698</td> <td>    2.901</td>\n",
              "</tr>\n",
              "</table>\n",
              "<table class=\"simpletable\">\n",
              "<tr>\n",
              "  <th>Omnibus:</th>       <td>2365.152</td> <th>  Durbin-Watson:     </th>  <td>   1.731</td> \n",
              "</tr>\n",
              "<tr>\n",
              "  <th>Prob(Omnibus):</th>  <td> 0.000</td>  <th>  Jarque-Bera (JB):  </th> <td>147296.850</td>\n",
              "</tr>\n",
              "<tr>\n",
              "  <th>Skew:</th>           <td> 4.882</td>  <th>  Prob(JB):          </th>  <td>    0.00</td> \n",
              "</tr>\n",
              "<tr>\n",
              "  <th>Kurtosis:</th>       <td>40.613</td>  <th>  Cond. No.          </th>  <td>    22.1</td> \n",
              "</tr>\n",
              "</table><br/><br/>Notes:<br/>[1] Standard Errors assume that the covariance matrix of the errors is correctly specified."
            ],
            "text/plain": [
              "<class 'statsmodels.iolib.summary.Summary'>\n",
              "\"\"\"\n",
              "                            OLS Regression Results                            \n",
              "==============================================================================\n",
              "Dep. Variable:                  price   R-squared:                       0.001\n",
              "Model:                            OLS   Adj. R-squared:                  0.001\n",
              "Method:                 Least Squares   F-statistic:                     2.245\n",
              "Date:                Tue, 07 Dec 2021   Prob (F-statistic):              0.134\n",
              "Time:                        02:43:51   Log-Likelihood:                -18962.\n",
              "No. Observations:                2341   AIC:                         3.793e+04\n",
              "Df Residuals:                    2339   BIC:                         3.794e+04\n",
              "Df Model:                           1                                         \n",
              "Covariance Type:            nonrobust                                         \n",
              "==============================================================================\n",
              "                 coef    std err          t      P>|t|      [0.025      0.975]\n",
              "------------------------------------------------------------------------------\n",
              "intercept   1014.2649     47.467     21.368      0.000     921.183    1107.346\n",
              "rating        -9.3984      6.272     -1.498      0.134     -21.698       2.901\n",
              "==============================================================================\n",
              "Omnibus:                     2365.152   Durbin-Watson:                   1.731\n",
              "Prob(Omnibus):                  0.000   Jarque-Bera (JB):           147296.850\n",
              "Skew:                           4.882   Prob(JB):                         0.00\n",
              "Kurtosis:                      40.613   Cond. No.                         22.1\n",
              "==============================================================================\n",
              "\n",
              "Notes:\n",
              "[1] Standard Errors assume that the covariance matrix of the errors is correctly specified.\n",
              "\"\"\""
            ]
          },
          "execution_count": 51,
          "metadata": {},
          "output_type": "execute_result"
        }
      ],
      "source": [
        "from sklearn.datasets import load_boston\n",
        "import statsmodels.api as sms;\n",
        "\n",
        "df['intercept'] = 1\n",
        "\n",
        "lm = sms.OLS(df['price'], df[['intercept', 'rating']])\n",
        "results = lm.fit()\n",
        "results.summary()"
      ]
    },
    {
      "cell_type": "markdown",
      "id": "328ebe1a",
      "metadata": {
        "id": "328ebe1a"
      },
      "source": [
        "## Multiple linear regression:"
      ]
    },
    {
      "cell_type": "markdown",
      "id": "378ae6a8",
      "metadata": {
        "id": "378ae6a8"
      },
      "source": [
        "# Splitting the data"
      ]
    },
    {
      "cell_type": "code",
      "execution_count": null,
      "id": "6dc5f1cc",
      "metadata": {
        "id": "6dc5f1cc"
      },
      "outputs": [],
      "source": [
        "X = df.drop(['price'], axis = 1)\n",
        "y = df['price']\n",
        "\n",
        "X, X_test, y, y_test = train_test_split(X, y, test_size=0.2, random_state=42)\n",
        "X_train, X_val, y_train, y_val = train_test_split(X, y, test_size=0.2, random_state=42)"
      ]
    },
    {
      "cell_type": "code",
      "execution_count": null,
      "id": "aee56425",
      "metadata": {
        "id": "aee56425"
      },
      "outputs": [],
      "source": [
        "X_data = df.drop(['price'], axis=1)\n",
        "X_train, X_test, y_train, y_test = train_test_split(\n",
        "                 X_data, df['price'], test_size=0.2, random_state=0)"
      ]
    },
    {
      "cell_type": "markdown",
      "id": "33524b24",
      "metadata": {
        "id": "33524b24"
      },
      "source": [
        "# Linear Regression"
      ]
    },
    {
      "cell_type": "code",
      "execution_count": null,
      "id": "f1a1409a",
      "metadata": {
        "id": "f1a1409a",
        "outputId": "be26b2f2-5306-4391-94df-2f463e8a4721"
      },
      "outputs": [
        {
          "name": "stdout",
          "output_type": "stream",
          "text": [
            "0.12011344739239938\n",
            "Mean Absolute Error: 474587.9018648391\n"
          ]
        }
      ],
      "source": [
        "from sklearn.metrics import mean_absolute_error, mean_squared_error, r2_score\n",
        "\n",
        "lr = LinearRegression()\n",
        "lr.fit(X_train,y_train)\n",
        "y_pred=lr.predict(X_test)\n",
        "\n",
        "print(r2_score(y_test, y_pred))\n",
        "print('Mean Absolute Error:', mean_squared_error(lr.predict(X_test), y_test))  \n"
      ]
    },
    {
      "cell_type": "code",
      "execution_count": null,
      "id": "1649aac1",
      "metadata": {
        "id": "1649aac1",
        "outputId": "4d1ca5b8-b3c9-492c-9d9b-b0eb57a852b7"
      },
      "outputs": [
        {
          "data": {
            "text/plain": [
              "0.15316633215536146"
            ]
          },
          "execution_count": 55,
          "metadata": {},
          "output_type": "execute_result"
        }
      ],
      "source": [
        "val_score = lr.score(X_val, y_val)  \n",
        "val_score"
      ]
    },
    {
      "cell_type": "code",
      "execution_count": null,
      "id": "1afa5fab",
      "metadata": {
        "id": "1afa5fab",
        "outputId": "d4627180-3f88-46ee-9dfa-27e741b04029"
      },
      "outputs": [
        {
          "data": {
            "text/plain": [
              "0.12199124024976982"
            ]
          },
          "execution_count": 56,
          "metadata": {},
          "output_type": "execute_result"
        }
      ],
      "source": [
        "train_score = lr.score(X_train, y_train)\n",
        "train_score"
      ]
    },
    {
      "cell_type": "code",
      "execution_count": null,
      "id": "c0aa06e8",
      "metadata": {
        "id": "c0aa06e8",
        "outputId": "c5cc432e-4d67-46f5-eb52-3c33cdb91bf5"
      },
      "outputs": [
        {
          "data": {
            "text/plain": [
              "0.12011344739239938"
            ]
          },
          "execution_count": 57,
          "metadata": {},
          "output_type": "execute_result"
        }
      ],
      "source": [
        "test_score = lr.score(X_test, y_test)\n",
        "test_score"
      ]
    },
    {
      "cell_type": "markdown",
      "id": "c0e2503f",
      "metadata": {
        "id": "c0e2503f"
      },
      "source": [
        "### the model have low score and need to optimization, so first we will check the variance inflation factor VIF"
      ]
    },
    {
      "cell_type": "code",
      "execution_count": null,
      "id": "91af05fa",
      "metadata": {
        "id": "91af05fa",
        "outputId": "a50f7e07-9526-42ed-ba5b-071bc1cde16e"
      },
      "outputs": [
        {
          "data": {
            "text/html": [
              "<div>\n",
              "<style scoped>\n",
              "    .dataframe tbody tr th:only-of-type {\n",
              "        vertical-align: middle;\n",
              "    }\n",
              "\n",
              "    .dataframe tbody tr th {\n",
              "        vertical-align: top;\n",
              "    }\n",
              "\n",
              "    .dataframe thead th {\n",
              "        text-align: right;\n",
              "    }\n",
              "</style>\n",
              "<table border=\"1\" class=\"dataframe\">\n",
              "  <thead>\n",
              "    <tr style=\"text-align: right;\">\n",
              "      <th></th>\n",
              "      <th>VIF Factor</th>\n",
              "      <th>features</th>\n",
              "    </tr>\n",
              "  </thead>\n",
              "  <tbody>\n",
              "    <tr>\n",
              "      <th>0</th>\n",
              "      <td>13.756083</td>\n",
              "      <td>Intercept</td>\n",
              "    </tr>\n",
              "    <tr>\n",
              "      <th>1</th>\n",
              "      <td>1.270840</td>\n",
              "      <td>rating</td>\n",
              "    </tr>\n",
              "    <tr>\n",
              "      <th>2</th>\n",
              "      <td>1.738965</td>\n",
              "      <td>area</td>\n",
              "    </tr>\n",
              "    <tr>\n",
              "      <th>3</th>\n",
              "      <td>1.308125</td>\n",
              "      <td>pool</td>\n",
              "    </tr>\n",
              "    <tr>\n",
              "      <th>4</th>\n",
              "      <td>1.285464</td>\n",
              "      <td>garden</td>\n",
              "    </tr>\n",
              "    <tr>\n",
              "      <th>5</th>\n",
              "      <td>1.342243</td>\n",
              "      <td>outdoor</td>\n",
              "    </tr>\n",
              "    <tr>\n",
              "      <th>6</th>\n",
              "      <td>1.165886</td>\n",
              "      <td>play_area</td>\n",
              "    </tr>\n",
              "    <tr>\n",
              "      <th>7</th>\n",
              "      <td>1.117126</td>\n",
              "      <td>family</td>\n",
              "    </tr>\n",
              "    <tr>\n",
              "      <th>8</th>\n",
              "      <td>1.005143</td>\n",
              "      <td>single</td>\n",
              "    </tr>\n",
              "    <tr>\n",
              "      <th>9</th>\n",
              "      <td>2.727807</td>\n",
              "      <td>property_type_camp</td>\n",
              "    </tr>\n",
              "    <tr>\n",
              "      <th>10</th>\n",
              "      <td>3.245653</td>\n",
              "      <td>property_type_chalet</td>\n",
              "    </tr>\n",
              "    <tr>\n",
              "      <th>11</th>\n",
              "      <td>1.880769</td>\n",
              "      <td>property_type_farm</td>\n",
              "    </tr>\n",
              "    <tr>\n",
              "      <th>12</th>\n",
              "      <td>1.203850</td>\n",
              "      <td>property_type_resort</td>\n",
              "    </tr>\n",
              "  </tbody>\n",
              "</table>\n",
              "</div>"
            ],
            "text/plain": [
              "    VIF Factor              features\n",
              "0    13.756083             Intercept\n",
              "1     1.270840                rating\n",
              "2     1.738965                  area\n",
              "3     1.308125                  pool\n",
              "4     1.285464                garden\n",
              "5     1.342243               outdoor\n",
              "6     1.165886             play_area\n",
              "7     1.117126                family\n",
              "8     1.005143                single\n",
              "9     2.727807    property_type_camp\n",
              "10    3.245653  property_type_chalet\n",
              "11    1.880769    property_type_farm\n",
              "12    1.203850  property_type_resort"
            ]
          },
          "execution_count": 58,
          "metadata": {},
          "output_type": "execute_result"
        }
      ],
      "source": [
        "from patsy import dmatrices\n",
        "# get y and X dataframes based on this regression:\n",
        "y, X = dmatrices('price ~ rating + area + pool + garden + outdoor + play_area + family + single+ property_type_camp + property_type_chalet + property_type_farm + property_type_resort ' , df, return_type='dataframe')\n",
        "\n",
        "# For each X, calculate VIF and save in dataframe\n",
        "vif = pd.DataFrame()\n",
        "vif[\"VIF Factor\"] = [variance_inflation_factor(X.values, i) for i in range(X.shape[1])]\n",
        "vif[\"features\"] = X.columns\n",
        "vif"
      ]
    },
    {
      "cell_type": "markdown",
      "id": "579c4681",
      "metadata": {
        "id": "579c4681"
      },
      "source": [
        "### Since all variable have VIF less than 10 so no need to drop any variable\n",
        "### we may need to get more data. Increase the data size will increase score value of the model."
      ]
    },
    {
      "cell_type": "code",
      "execution_count": null,
      "id": "e77b53a1",
      "metadata": {
        "id": "e77b53a1",
        "outputId": "912cd543-573c-4f4f-b6dc-d6d8295f6e5a"
      },
      "outputs": [
        {
          "data": {
            "image/png": "[encoded data removed]",
            "text/plain": [
              "<Figure size 432x288 with 1 Axes>"
            ]
          },
          "metadata": {
            "needs_background": "light"
          },
          "output_type": "display_data"
        }
      ],
      "source": [
        "# Actual Training Set(x) vs. predicted Training Set(y)\n",
        "y_train_pred = lr.predict(X_train)\n",
        "\n",
        "plt.scatter(y_train, y_train_pred, alpha=0.2)#cross valid do train only \n",
        "plt.title(\"Actual vs. predicted\", size=22)\n",
        "plt.xlabel('Actual Training Set', size=12)\n",
        "plt.ylabel('predicted Training Set', size=12)\n",
        "plt.plot([0, 10000], [0, 10000])\n",
        "plt.show()"
      ]
    },
    {
      "cell_type": "code",
      "execution_count": null,
      "id": "428882f2",
      "metadata": {
        "id": "428882f2",
        "outputId": "042db973-d311-4551-f0a3-dca08e26911c"
      },
      "outputs": [
        {
          "data": {
            "image/png": "[encoded data removed]",
            "text/plain": [
              "<Figure size 432x288 with 1 Axes>"
            ]
          },
          "metadata": {
            "needs_background": "light"
          },
          "output_type": "display_data"
        }
      ],
      "source": [
        "# Actual validation Set(x) vs. predicted validation Set(y)\n",
        "y_val_pred = lr.predict(X_val)#cross valid do train only \n",
        "\n",
        "plt.scatter(y_val, y_val_pred, alpha=0.2)\n",
        "plt.title(\"Actual vs. predicted\", size=22)\n",
        "plt.xlabel('Actual Valid Set', size=12)\n",
        "plt.ylabel('predicted Valid Set ', size=12)\n",
        "plt.plot([0, 8000], [0, 8000])\n",
        "plt.show()"
      ]
    },
    {
      "cell_type": "markdown",
      "id": "e272e4d3",
      "metadata": {
        "id": "e272e4d3"
      },
      "source": [
        "# Polynomial Regression"
      ]
    },
    {
      "cell_type": "code",
      "execution_count": null,
      "id": "0aa12352",
      "metadata": {
        "id": "0aa12352",
        "outputId": "b6443993-f5fa-486b-fbb1-0a5172c61db5"
      },
      "outputs": [
        {
          "name": "stdout",
          "output_type": "stream",
          "text": [
            "Mean Absolute Error: 523068.93108737067\n"
          ]
        }
      ],
      "source": [
        "poly = PolynomialFeatures(degree=2)\n",
        "\n",
        "X_train_poly = poly.fit_transform(X_train)\n",
        "X_test_poly= poly.transform(X_test)\n",
        "X_val_poly= poly.transform(X_val)\n",
        "\n",
        "Plr = LinearRegression()\n",
        "Plr.fit(X_train_poly, y_train)\n",
        "print('Mean Absolute Error:', mean_squared_error(Plr.predict(X_test_poly), y_test))  \n"
      ]
    },
    {
      "cell_type": "code",
      "execution_count": null,
      "id": "85d22720",
      "metadata": {
        "id": "85d22720",
        "outputId": "4fff9037-77f0-4ea2-988f-df8480df6e4f"
      },
      "outputs": [
        {
          "name": "stdout",
          "output_type": "stream",
          "text": [
            "0.3194394378107599\n"
          ]
        }
      ],
      "source": [
        "print(Plr.score(X_train_poly, y_train))"
      ]
    },
    {
      "cell_type": "code",
      "execution_count": null,
      "id": "970f62f4",
      "metadata": {
        "id": "970f62f4",
        "outputId": "9b55813a-2e02-407e-9642-7e79b82483bb"
      },
      "outputs": [
        {
          "name": "stdout",
          "output_type": "stream",
          "text": [
            "0.030229559704022413\n"
          ]
        }
      ],
      "source": [
        "print(Plr.score(X_test_poly, y_test))"
      ]
    },
    {
      "cell_type": "code",
      "execution_count": null,
      "id": "753674d5",
      "metadata": {
        "id": "753674d5",
        "outputId": "1072b5bd-26a7-4da7-8639-cb16685dfb8b"
      },
      "outputs": [
        {
          "name": "stdout",
          "output_type": "stream",
          "text": [
            "0.272339487383663\n"
          ]
        }
      ],
      "source": [
        "print(Plr.score(X_val_poly, y_val))"
      ]
    },
    {
      "cell_type": "markdown",
      "id": "a0b1e171",
      "metadata": {
        "id": "a0b1e171"
      },
      "source": [
        "# Lasso"
      ]
    },
    {
      "cell_type": "code",
      "execution_count": null,
      "id": "8aca1cbd",
      "metadata": {
        "id": "8aca1cbd",
        "outputId": "41e60fee-77a1-4089-fcc3-28bd3dddf922"
      },
      "outputs": [
        {
          "name": "stdout",
          "output_type": "stream",
          "text": [
            "Lasso Model:\n"
          ]
        },
        {
          "data": {
            "image/png": "[encoded data removed]",
            "text/plain": [
              "<Figure size 432x288 with 1 Axes>"
            ]
          },
          "metadata": {
            "needs_background": "light"
          },
          "output_type": "display_data"
        }
      ],
      "source": [
        "kfold = KFold(n_splits=15, shuffle=True, random_state=0)\n",
        "print(\"Lasso Model:\")\n",
        "params = {\n",
        "    \"alpha\": np.logspace(-4, -.1, 20)\n",
        "}\n",
        "\n",
        "grid_est = GridSearchCV(Lasso(), param_grid=params, cv=kfold, \n",
        "                        return_train_score=False)\n",
        "grid_est.fit(X_train, y_train)\n",
        "df_L = pd.DataFrame(grid_est.cv_results_)\n",
        "df_L[\"alpha\"] = df_L.params.apply(lambda val: val[\"alpha\"])\n",
        "plt.plot(np.log(df_L.alpha), df_L.mean_test_score);"
      ]
    },
    {
      "cell_type": "code",
      "execution_count": null,
      "id": "794a157e",
      "metadata": {
        "id": "794a157e",
        "outputId": "2e7f2bff-f10b-4568-a8d3-c456f808dbe0"
      },
      "outputs": [
        {
          "data": {
            "text/plain": [
              "Lasso(alpha=0.7943282347242815)"
            ]
          },
          "execution_count": 66,
          "metadata": {},
          "output_type": "execute_result"
        }
      ],
      "source": [
        "grid_est.best_estimator_"
      ]
    },
    {
      "cell_type": "code",
      "execution_count": null,
      "id": "dd34f50b",
      "metadata": {
        "id": "dd34f50b",
        "outputId": "b7dab6c8-cfef-4a90-ffaf-fac62ca29d9c"
      },
      "outputs": [
        {
          "data": {
            "text/plain": [
              "array([1.00000000e-04, 1.60421716e-04, 2.57351270e-04, 4.12847324e-04,\n",
              "       6.62296762e-04, 1.06246783e-03, 1.70442913e-03, 2.73427446e-03,\n",
              "       4.38637001e-03, 7.03669004e-03, 1.12883789e-02, 1.81090112e-02,\n",
              "       2.90507865e-02, 4.66037703e-02, 7.47625680e-02, 1.19935395e-01,\n",
              "       1.92402418e-01, 3.08655261e-01, 4.95150067e-01, 7.94328235e-01])"
            ]
          },
          "execution_count": 67,
          "metadata": {},
          "output_type": "execute_result"
        }
      ],
      "source": [
        "params['alpha']"
      ]
    },
    {
      "cell_type": "markdown",
      "id": "dda6bf46",
      "metadata": {
        "id": "dda6bf46"
      },
      "source": [
        "# Ridge"
      ]
    },
    {
      "cell_type": "code",
      "execution_count": null,
      "id": "327fd135",
      "metadata": {
        "id": "327fd135",
        "outputId": "ea3f3cd4-975e-499b-d104-f06f46ee4b17"
      },
      "outputs": [
        {
          "name": "stdout",
          "output_type": "stream",
          "text": [
            "Ridge Model:\n"
          ]
        },
        {
          "data": {
            "image/png": "[encoded data removed]",
            "text/plain": [
              "<Figure size 432x288 with 1 Axes>"
            ]
          },
          "metadata": {
            "needs_background": "light"
          },
          "output_type": "display_data"
        }
      ],
      "source": [
        "print(\"Ridge Model:\")\n",
        "params = {\n",
        "    \"alpha\": np.logspace(-4, -.1, 20)\n",
        "}\n",
        "\n",
        "grid_est_R = GridSearchCV(Ridge(), param_grid=params, cv=kfold, \n",
        "                        return_train_score=False)\n",
        "grid_est_R.fit(X_train, y_train)\n",
        "df_R = pd.DataFrame(grid_est_R.cv_results_)\n",
        "df_R[\"alpha\"] = df_R.params.apply(lambda val: val[\"alpha\"])\n",
        "plt.plot(np.log(df_R.alpha), df_R.mean_test_score);"
      ]
    },
    {
      "cell_type": "code",
      "execution_count": null,
      "id": "43515564",
      "metadata": {
        "id": "43515564",
        "outputId": "ddd19e4e-7138-45d7-e160-c09f7d8f06c4"
      },
      "outputs": [
        {
          "name": "stdout",
          "output_type": "stream",
          "text": [
            "Lasso Regression: 0.12012808013740206\n",
            "Ridge Regression: 0.12039816757568433\n"
          ]
        }
      ],
      "source": [
        "y_pred = grid_est.predict(X_test)\n",
        "print(\"Lasso Regression:\", r2_score(y_test, y_pred))\n",
        "\n",
        "y_pred = grid_est_R.predict(X_test)\n",
        "print(\"Ridge Regression:\", r2_score(y_test, y_pred))"
      ]
    },
    {
      "cell_type": "code",
      "execution_count": null,
      "id": "72522f96",
      "metadata": {
        "id": "72522f96",
        "outputId": "6f9f45ae-e7c9-47a4-b7b6-8c4fcc2b9623"
      },
      "outputs": [
        {
          "name": "stdout",
          "output_type": "stream",
          "text": [
            "Lasso Regression: 0.1507771573729756\n",
            "Ridge Regression: 0.15228434416462266\n"
          ]
        }
      ],
      "source": [
        "y_pred = grid_est.predict(X_val)\n",
        "print(\"Lasso Regression:\", r2_score(y_val, y_pred))\n",
        "\n",
        "y_pred = grid_est_R.predict(X_val)\n",
        "print(\"Ridge Regression:\", r2_score(y_val, y_pred))"
      ]
    },
    {
      "cell_type": "markdown",
      "id": "99ef1776",
      "metadata": {
        "id": "99ef1776"
      },
      "source": [
        "# LinearRegression best result"
      ]
    },
    {
      "cell_type": "code",
      "execution_count": null,
      "id": "caead0e5",
      "metadata": {
        "id": "caead0e5"
      },
      "outputs": [],
      "source": [
        "indp = df.drop(['price'], axis = 1)\n",
        "dep = df['price']\n",
        "\n",
        "\n",
        "indp_train, indp_test, dep_train, dep_test = train_test_split(indp, dep, test_size = 0.2, random_state = 42)"
      ]
    },
    {
      "cell_type": "code",
      "execution_count": null,
      "id": "03c06e13",
      "metadata": {
        "id": "03c06e13",
        "outputId": "2b57f498-c86e-471c-ca65-64d64689ba6b"
      },
      "outputs": [
        {
          "data": {
            "text/plain": [
              "0.13633589710604987"
            ]
          },
          "execution_count": 72,
          "metadata": {},
          "output_type": "execute_result"
        }
      ],
      "source": [
        "train_score = lr.score(indp_train, dep_train)\n",
        "train_score"
      ]
    },
    {
      "cell_type": "code",
      "execution_count": null,
      "id": "58040dbc",
      "metadata": {
        "id": "58040dbc",
        "outputId": "2e7c31ed-7427-4406-d3a7-00a84eb53908"
      },
      "outputs": [
        {
          "data": {
            "text/plain": [
              "0.09824269281583564"
            ]
          },
          "execution_count": 73,
          "metadata": {},
          "output_type": "execute_result"
        }
      ],
      "source": [
        "test_score = lr.score(indp_test, dep_test)\n",
        "test_score"
      ]
    },
    {
      "cell_type": "code",
      "execution_count": null,
      "id": "688850e9",
      "metadata": {
        "id": "688850e9",
        "outputId": "e69f1128-da75-4a5b-9d27-91212bbc20fc"
      },
      "outputs": [
        {
          "data": {
            "image/png": "[encoded data removed]",
            "text/plain": [
              "<Figure size 432x288 with 1 Axes>"
            ]
          },
          "metadata": {
            "needs_background": "light"
          },
          "output_type": "display_data"
        }
      ],
      "source": [
        "# Actual Training Set(x) vs. predicted Training Set(y)\n",
        "dep_train_pred = lr.predict(indp_train)\n",
        "\n",
        "plt.scatter(dep_train, dep_train_pred, alpha=0.2)#cross valid do train only \n",
        "plt.title(\"Actual vs. predicted\", size=22)\n",
        "plt.xlabel('Actual Training Set', size=12)\n",
        "plt.ylabel('predicted Training Set', size=12)\n",
        "plt.plot([0, 10000], [0, 10000])\n",
        "plt.show()"
      ]
    },
    {
      "cell_type": "code",
      "execution_count": null,
      "id": "432ad6c1",
      "metadata": {
        "id": "432ad6c1",
        "outputId": "e83ab2ec-1e12-4c2c-9f46-44bb274e2520"
      },
      "outputs": [
        {
          "data": {
            "image/png": "[encoded data removed]",
            "text/plain": [
              "<Figure size 432x288 with 1 Axes>"
            ]
          },
          "metadata": {
            "needs_background": "light"
          },
          "output_type": "display_data"
        }
      ],
      "source": [
        "# Actual Test Set(x) vs. predicted Test Set(y)\n",
        "dep_test_pred = lr.predict(indp_test)#cross valid do train only \n",
        "\n",
        "plt.scatter(dep_test, dep_test_pred, alpha=0.2)\n",
        "plt.title(\"Actual vs. predicted\", size=22)\n",
        "plt.xlabel('Actual Training Set', size=12)\n",
        "plt.ylabel('predicted Training Set ', size=12)\n",
        "plt.plot([0, 10000], [0, 10000])\n",
        "plt.show()"
      ]
    }
  ],
  "metadata": {
    "kernelspec": {
      "display_name": "Python 3 (ipykernel)",
      "language": "python",
      "name": "python3"
    },
    "language_info": {
      "codemirror_mode": {
        "name": "ipython",
        "version": 3
      },
      "file_extension": ".py",
      "mimetype": "text/x-python",
      "name": "python",
      "nbconvert_exporter": "python",
      "pygments_lexer": "ipython3",
      "version": "3.9.7"
    },
    "colab": {
      "name": "Linear_Regression.ipynb",
      "provenance": []
    }
  },
  "nbformat": 4,
  "nbformat_minor": 5
}